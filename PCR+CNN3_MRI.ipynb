{
 "cells": [
  {
   "cell_type": "code",
   "execution_count": 1,
   "id": "5a2e3f5c-8404-4ee3-977a-b4e902ca765e",
   "metadata": {},
   "outputs": [],
   "source": [
    "import pandas as pd\n",
    "import torch\n",
    "from torch.utils.data import Dataset, DataLoader\n",
    "from torchvision import transforms\n",
    "from PIL import Image\n",
    "import torch.nn as nn\n",
    "import torch.optim as optim\n",
    "import os\n",
    "import numpy as np\n",
    "from sklearn.model_selection import train_test_split\n",
    "from sklearn.utils.class_weight import compute_class_weight\n",
    "from sklearn.metrics import accuracy_score, f1_score, classification_report\n",
    "from tqdm.notebook import tqdm\n",
    "import random\n",
    "import pickle\n",
    "from collections import Counter\n"
   ]
  },
  {
   "cell_type": "code",
   "execution_count": 2,
   "id": "754553c1-5954-4fed-a4e4-5f7c908953d3",
   "metadata": {},
   "outputs": [],
   "source": [
    "csv_path = \"C:/Users/HP/Downloads/GLEASON/Train_with_Gleason_and_Labels.csv\"\n",
    "df = pd.read_csv(csv_path)\n",
    "\n",
    "df['image_path'] = df['image_path'].apply(lambda x: os.path.join('C:/Users/HP/Downloads/GLEASON/Train Imgs', os.path.basename(x)))\n",
    "\n",
    "def map_risk_label(gleason_score):\n",
    "    if gleason_score in [0, 6]:\n",
    "        return 0\n",
    "    elif gleason_score == 7:\n",
    "        return 1\n",
    "    elif gleason_score in [8, 9, 10]:\n",
    "        return 2\n",
    "    else:\n",
    "        return -1\n",
    "\n",
    "df['risk_label'] = df['gleason_score'].apply(map_risk_label)\n",
    "df = df[df['risk_label'] != -1]"
   ]
  },
  {
   "cell_type": "code",
   "execution_count": 3,
   "id": "dceaec0e-6260-4d41-b309-8354e1749ad1",
   "metadata": {},
   "outputs": [],
   "source": [
    "class MRIOnlyDataset(Dataset):\n",
    "    def __init__(self, dataframe, transform=None):\n",
    "        self.dataframe = dataframe.reset_index(drop=True)\n",
    "        self.transform = transform\n",
    "\n",
    "    def __len__(self):\n",
    "        return len(self.dataframe)\n",
    "\n",
    "    def __getitem__(self, idx):\n",
    "        row = self.dataframe.iloc[idx]\n",
    "        image = Image.open(row['image_path']).convert('RGB')\n",
    "\n",
    "        if self.transform:\n",
    "            image = self.transform(image)\n",
    "\n",
    "        label = torch.tensor(row['risk_label']).long()\n",
    "        return image, label"
   ]
  },
  {
   "cell_type": "code",
   "execution_count": 4,
   "id": "cf1107b5-3446-4db2-906e-2c3938b7b70d",
   "metadata": {},
   "outputs": [],
   "source": [
    "image_transform = transforms.Compose([\n",
    "    transforms.Resize((224, 224)),\n",
    "    transforms.ToTensor(),\n",
    "    transforms.Normalize(mean=[0.5, 0.5, 0.5],\n",
    "                         std=[0.5, 0.5, 0.5])\n",
    "])"
   ]
  },
  {
   "cell_type": "code",
   "execution_count": 5,
   "id": "7c2a0c43-82ad-499b-b1c2-e2aca3e9442f",
   "metadata": {},
   "outputs": [],
   "source": [
    "train_df, val_df = train_test_split(df, test_size=0.2, stratify=df['risk_label'], random_state=42)\n",
    "train_dataset = MRIOnlyDataset(train_df, transform=image_transform)\n",
    "val_dataset = MRIOnlyDataset(val_df, transform=image_transform)\n",
    "\n",
    "train_loader = DataLoader(train_dataset, batch_size=16, shuffle=True)\n",
    "val_loader = DataLoader(val_dataset, batch_size=16, shuffle=False)"
   ]
  },
  {
   "cell_type": "code",
   "execution_count": 9,
   "id": "16da424c-5da4-4c8e-a53e-84e00cbf2296",
   "metadata": {},
   "outputs": [],
   "source": [
    "device = torch.device(\"cuda\" if torch.cuda.is_available() else \"cpu\")\n",
    "class CNN3ChannelDeep(nn.Module):\n",
    "    def __init__(self):\n",
    "        super(CNN3ChannelDeep, self).__init__()\n",
    "        self.features = nn.Sequential(\n",
    "            nn.Conv2d(3, 32, kernel_size=3, padding=1),\n",
    "            nn.BatchNorm2d(32),\n",
    "            nn.ReLU(),\n",
    "            nn.Conv2d(32, 32, kernel_size=3, padding=1),\n",
    "            nn.BatchNorm2d(32),\n",
    "            nn.ReLU(),\n",
    "            nn.MaxPool2d(2),\n",
    "\n",
    "            nn.Conv2d(32, 64, kernel_size=3, padding=1),\n",
    "            nn.BatchNorm2d(64),\n",
    "            nn.ReLU(),\n",
    "            nn.Conv2d(64, 64, kernel_size=3, padding=1),\n",
    "            nn.BatchNorm2d(64),\n",
    "            nn.ReLU(),\n",
    "            nn.MaxPool2d(2),\n",
    "\n",
    "            nn.Conv2d(64, 128, kernel_size=3, padding=1),\n",
    "            nn.BatchNorm2d(128),\n",
    "            nn.ReLU(),\n",
    "            nn.Conv2d(128, 128, kernel_size=3, padding=1),\n",
    "            nn.BatchNorm2d(128),\n",
    "            nn.ReLU(),\n",
    "            nn.AdaptiveAvgPool2d((1, 1))\n",
    "        )\n",
    "        self.classifier = nn.Sequential(\n",
    "            nn.Flatten(),\n",
    "            nn.Linear(128, 64),\n",
    "            nn.ReLU(),\n",
    "            nn.Dropout(0.5),\n",
    "            nn.Linear(64, 3)\n",
    "        )\n",
    "\n",
    "    def forward(self, x):\n",
    "        x = self.features(x)\n",
    "        x = self.classifier(x)\n",
    "        return x\n",
    "\n",
    "model = CNN3ChannelDeep().to(device)"
   ]
  },
  {
   "cell_type": "code",
   "execution_count": 11,
   "id": "6cfe977b-12c7-48d8-82c3-9ae42de4ad30",
   "metadata": {},
   "outputs": [
    {
     "name": "stdout",
     "output_type": "stream",
     "text": [
      "Counter({2: 383, 0: 284, 1: 269})\n"
     ]
    }
   ],
   "source": [
    "def set_seed(seed=42):\n",
    "    random.seed(seed)\n",
    "    np.random.seed(seed)\n",
    "    torch.manual_seed(seed)\n",
    "    torch.cuda.manual_seed_all(seed)\n",
    "    torch.backends.cudnn.deterministic = True\n",
    "    torch.backends.cudnn.benchmark = False\n",
    "\n",
    "set_seed(42)\n",
    "\n",
    "if os.path.exists(\"train_labels.pkl\"):\n",
    "    with open(\"train_labels.pkl\", \"rb\") as f:\n",
    "        train_labels = pickle.load(f)\n",
    "else:\n",
    "    train_labels = [int(label) for _, label in tqdm(train_dataset)]\n",
    "    with open(\"train_labels.pkl\", \"wb\") as f:\n",
    "        pickle.dump(train_labels, f)\n",
    "\n",
    "print(Counter(train_labels))\n",
    "\n",
    "class_weights = compute_class_weight(class_weight='balanced',\n",
    "                                     classes=np.unique(train_labels),\n",
    "                                     y=np.array(train_labels))\n",
    "weights_tensor = torch.tensor(class_weights, dtype=torch.float).to(device)"
   ]
  },
  {
   "cell_type": "code",
   "execution_count": 15,
   "id": "0a4beb33-5d39-4560-a5b5-1055fe017f21",
   "metadata": {},
   "outputs": [
    {
     "data": {
      "application/vnd.jupyter.widget-view+json": {
       "model_id": "2a8bd4e5db564ba7b7912983b753a23b",
       "version_major": 2,
       "version_minor": 0
      },
      "text/plain": [
       "Epoch 1:   0%|          | 0/59 [00:00<?, ?it/s]"
      ]
     },
     "metadata": {},
     "output_type": "display_data"
    },
    {
     "name": "stdout",
     "output_type": "stream",
     "text": [
      "\n",
      "==================================================\n",
      "Epoch 1 Summary:\n",
      "Train Loss: 60.0976\n",
      "Val Acc:   0.4936\n",
      "Val F1:    0.4386\n",
      "\n",
      "Classification Report:\n",
      "              precision    recall  f1-score   support\n",
      "\n",
      " No/Low Risk       0.63      0.40      0.49        72\n",
      "Intermediate       0.46      0.16      0.24        67\n",
      "        High       0.46      0.79      0.58        96\n",
      "\n",
      "    accuracy                           0.49       235\n",
      "   macro avg       0.52      0.45      0.44       235\n",
      "weighted avg       0.51      0.49      0.46       235\n",
      "\n",
      "Prediction Distribution: [46, 24, 165]\n",
      "\n",
      "Confusion Matrix:\n",
      "                   Pred 0    Pred 1    Pred 2\n",
      "True 0                  29         8        35\n",
      "True 1                   2        11        54\n",
      "True 2                  15         5        76\n",
      "==================================================\n",
      "\n",
      "Best model saved.\n"
     ]
    },
    {
     "data": {
      "application/vnd.jupyter.widget-view+json": {
       "model_id": "d663011cb1a5423c92a05343618d25be",
       "version_major": 2,
       "version_minor": 0
      },
      "text/plain": [
       "Epoch 2:   0%|          | 0/59 [00:00<?, ?it/s]"
      ]
     },
     "metadata": {},
     "output_type": "display_data"
    },
    {
     "name": "stdout",
     "output_type": "stream",
     "text": [
      "\n",
      "==================================================\n",
      "Epoch 2 Summary:\n",
      "Train Loss: 57.6281\n",
      "Val Acc:   0.3660\n",
      "Val F1:    0.2527\n",
      "\n",
      "Classification Report:\n",
      "              precision    recall  f1-score   support\n",
      "\n",
      " No/Low Risk       0.34      0.99      0.50        72\n",
      "Intermediate       0.00      0.00      0.00        67\n",
      "        High       0.71      0.16      0.26        96\n",
      "\n",
      "    accuracy                           0.37       235\n",
      "   macro avg       0.35      0.38      0.25       235\n",
      "weighted avg       0.39      0.37      0.26       235\n",
      "\n",
      "Prediction Distribution: [211, 3, 21]\n",
      "\n",
      "Confusion Matrix:\n",
      "                   Pred 0    Pred 1    Pred 2\n",
      "True 0                  71         1         0\n",
      "True 1                  61         0         6\n",
      "True 2                  79         2        15\n",
      "==================================================\n",
      "\n"
     ]
    },
    {
     "data": {
      "application/vnd.jupyter.widget-view+json": {
       "model_id": "1febe57fe43c4c89a694d54b0344d9cc",
       "version_major": 2,
       "version_minor": 0
      },
      "text/plain": [
       "Epoch 3:   0%|          | 0/59 [00:00<?, ?it/s]"
      ]
     },
     "metadata": {},
     "output_type": "display_data"
    },
    {
     "name": "stdout",
     "output_type": "stream",
     "text": [
      "\n",
      "==================================================\n",
      "Epoch 3 Summary:\n",
      "Train Loss: 56.8983\n",
      "Val Acc:   0.5106\n",
      "Val F1:    0.4534\n",
      "\n",
      "Classification Report:\n",
      "              precision    recall  f1-score   support\n",
      "\n",
      " No/Low Risk       0.50      0.74      0.59        72\n",
      "Intermediate       0.31      0.12      0.17        67\n",
      "        High       0.58      0.61      0.60        96\n",
      "\n",
      "    accuracy                           0.51       235\n",
      "   macro avg       0.46      0.49      0.45       235\n",
      "weighted avg       0.48      0.51      0.47       235\n",
      "\n",
      "Prediction Distribution: [107, 26, 102]\n",
      "\n",
      "Confusion Matrix:\n",
      "                   Pred 0    Pred 1    Pred 2\n",
      "True 0                  53         8        11\n",
      "True 1                  27         8        32\n",
      "True 2                  27        10        59\n",
      "==================================================\n",
      "\n",
      "Best model saved.\n"
     ]
    },
    {
     "data": {
      "application/vnd.jupyter.widget-view+json": {
       "model_id": "0641e8a7e3a24801b21cc804ac6c51dc",
       "version_major": 2,
       "version_minor": 0
      },
      "text/plain": [
       "Epoch 4:   0%|          | 0/59 [00:00<?, ?it/s]"
      ]
     },
     "metadata": {},
     "output_type": "display_data"
    },
    {
     "name": "stdout",
     "output_type": "stream",
     "text": [
      "\n",
      "==================================================\n",
      "Epoch 4 Summary:\n",
      "Train Loss: 56.8420\n",
      "Val Acc:   0.5489\n",
      "Val F1:    0.5004\n",
      "\n",
      "Classification Report:\n",
      "              precision    recall  f1-score   support\n",
      "\n",
      " No/Low Risk       0.54      0.75      0.63        72\n",
      "Intermediate       0.43      0.18      0.25        67\n",
      "        High       0.59      0.66      0.62        96\n",
      "\n",
      "    accuracy                           0.55       235\n",
      "   macro avg       0.52      0.53      0.50       235\n",
      "weighted avg       0.53      0.55      0.52       235\n",
      "\n",
      "Prediction Distribution: [100, 28, 107]\n",
      "\n",
      "Confusion Matrix:\n",
      "                   Pred 0    Pred 1    Pred 2\n",
      "True 0                  54         8        10\n",
      "True 1                  21        12        34\n",
      "True 2                  25         8        63\n",
      "==================================================\n",
      "\n",
      "Best model saved.\n"
     ]
    },
    {
     "data": {
      "application/vnd.jupyter.widget-view+json": {
       "model_id": "3d52740215974eb4a7a6d5dd90a02ed4",
       "version_major": 2,
       "version_minor": 0
      },
      "text/plain": [
       "Epoch 5:   0%|          | 0/59 [00:00<?, ?it/s]"
      ]
     },
     "metadata": {},
     "output_type": "display_data"
    },
    {
     "name": "stdout",
     "output_type": "stream",
     "text": [
      "\n",
      "==================================================\n",
      "Epoch 5 Summary:\n",
      "Train Loss: 55.9789\n",
      "Val Acc:   0.4979\n",
      "Val F1:    0.3672\n",
      "\n",
      "Classification Report:\n",
      "              precision    recall  f1-score   support\n",
      "\n",
      " No/Low Risk       0.83      0.35      0.49        72\n",
      "Intermediate       0.00      0.00      0.00        67\n",
      "        High       0.45      0.96      0.61        96\n",
      "\n",
      "    accuracy                           0.50       235\n",
      "   macro avg       0.43      0.44      0.37       235\n",
      "weighted avg       0.44      0.50      0.40       235\n",
      "\n",
      "Prediction Distribution: [30, 0, 205]\n",
      "\n",
      "Confusion Matrix:\n",
      "                   Pred 0    Pred 1    Pred 2\n",
      "True 0                  25         0        47\n",
      "True 1                   1         0        66\n",
      "True 2                   4         0        92\n",
      "==================================================\n",
      "\n"
     ]
    },
    {
     "data": {
      "application/vnd.jupyter.widget-view+json": {
       "model_id": "38875c53ccf54ce585836f44262bf355",
       "version_major": 2,
       "version_minor": 0
      },
      "text/plain": [
       "Epoch 6:   0%|          | 0/59 [00:00<?, ?it/s]"
      ]
     },
     "metadata": {},
     "output_type": "display_data"
    },
    {
     "name": "stdout",
     "output_type": "stream",
     "text": [
      "\n",
      "==================================================\n",
      "Epoch 6 Summary:\n",
      "Train Loss: 54.9764\n",
      "Val Acc:   0.4681\n",
      "Val F1:    0.4308\n",
      "\n",
      "Classification Report:\n",
      "              precision    recall  f1-score   support\n",
      "\n",
      " No/Low Risk       0.44      0.90      0.59        72\n",
      "Intermediate       0.30      0.21      0.25        67\n",
      "        High       0.78      0.32      0.46        96\n",
      "\n",
      "    accuracy                           0.47       235\n",
      "   macro avg       0.50      0.48      0.43       235\n",
      "weighted avg       0.54      0.47      0.44       235\n",
      "\n",
      "Prediction Distribution: [148, 47, 40]\n",
      "\n",
      "Confusion Matrix:\n",
      "                   Pred 0    Pred 1    Pred 2\n",
      "True 0                  65         6         1\n",
      "True 1                  45        14         8\n",
      "True 2                  38        27        31\n",
      "==================================================\n",
      "\n"
     ]
    },
    {
     "data": {
      "application/vnd.jupyter.widget-view+json": {
       "model_id": "c589f3e86ce04fc689354c43c0b68480",
       "version_major": 2,
       "version_minor": 0
      },
      "text/plain": [
       "Epoch 7:   0%|          | 0/59 [00:00<?, ?it/s]"
      ]
     },
     "metadata": {},
     "output_type": "display_data"
    },
    {
     "name": "stdout",
     "output_type": "stream",
     "text": [
      "\n",
      "==================================================\n",
      "Epoch 7 Summary:\n",
      "Train Loss: 54.9472\n",
      "Val Acc:   0.4553\n",
      "Val F1:    0.4149\n",
      "\n",
      "Classification Report:\n",
      "              precision    recall  f1-score   support\n",
      "\n",
      " No/Low Risk       0.43      0.93      0.59        72\n",
      "Intermediate       0.32      0.24      0.27        67\n",
      "        High       0.80      0.25      0.38        96\n",
      "\n",
      "    accuracy                           0.46       235\n",
      "   macro avg       0.52      0.47      0.41       235\n",
      "weighted avg       0.55      0.46      0.41       235\n",
      "\n",
      "Prediction Distribution: [155, 50, 30]\n",
      "\n",
      "Confusion Matrix:\n",
      "                   Pred 0    Pred 1    Pred 2\n",
      "True 0                  67         4         1\n",
      "True 1                  46        16         5\n",
      "True 2                  42        30        24\n",
      "==================================================\n",
      "\n"
     ]
    },
    {
     "data": {
      "application/vnd.jupyter.widget-view+json": {
       "model_id": "18617c23e8304ee69c82c30e32b7d93d",
       "version_major": 2,
       "version_minor": 0
      },
      "text/plain": [
       "Epoch 8:   0%|          | 0/59 [00:00<?, ?it/s]"
      ]
     },
     "metadata": {},
     "output_type": "display_data"
    },
    {
     "name": "stdout",
     "output_type": "stream",
     "text": [
      "\n",
      "==================================================\n",
      "Epoch 8 Summary:\n",
      "Train Loss: 54.6486\n",
      "Val Acc:   0.3702\n",
      "Val F1:    0.2847\n",
      "\n",
      "Classification Report:\n",
      "              precision    recall  f1-score   support\n",
      "\n",
      " No/Low Risk       0.37      0.97      0.54        72\n",
      "Intermediate       0.17      0.07      0.10        67\n",
      "        High       0.67      0.12      0.21        96\n",
      "\n",
      "    accuracy                           0.37       235\n",
      "   macro avg       0.40      0.39      0.28       235\n",
      "weighted avg       0.43      0.37      0.28       235\n",
      "\n",
      "Prediction Distribution: [187, 30, 18]\n",
      "\n",
      "Confusion Matrix:\n",
      "                   Pred 0    Pred 1    Pred 2\n",
      "True 0                  70         2         0\n",
      "True 1                  56         5         6\n",
      "True 2                  61        23        12\n",
      "==================================================\n",
      "\n"
     ]
    },
    {
     "data": {
      "application/vnd.jupyter.widget-view+json": {
       "model_id": "98cc31a5c9354e609c95f0f767b2f4fc",
       "version_major": 2,
       "version_minor": 0
      },
      "text/plain": [
       "Epoch 9:   0%|          | 0/59 [00:00<?, ?it/s]"
      ]
     },
     "metadata": {},
     "output_type": "display_data"
    },
    {
     "name": "stdout",
     "output_type": "stream",
     "text": [
      "\n",
      "==================================================\n",
      "Epoch 9 Summary:\n",
      "Train Loss: 54.0817\n",
      "Val Acc:   0.5021\n",
      "Val F1:    0.4604\n",
      "\n",
      "Classification Report:\n",
      "              precision    recall  f1-score   support\n",
      "\n",
      " No/Low Risk       0.66      0.46      0.54        72\n",
      "Intermediate       0.33      0.19      0.25        67\n",
      "        High       0.49      0.75      0.60        96\n",
      "\n",
      "    accuracy                           0.50       235\n",
      "   macro avg       0.50      0.47      0.46       235\n",
      "weighted avg       0.50      0.50      0.48       235\n",
      "\n",
      "Prediction Distribution: [50, 39, 146]\n",
      "\n",
      "Confusion Matrix:\n",
      "                   Pred 0    Pred 1    Pred 2\n",
      "True 0                  33        16        23\n",
      "True 1                   3        13        51\n",
      "True 2                  14        10        72\n",
      "==================================================\n",
      "\n",
      "Early stopping triggered.\n"
     ]
    }
   ],
   "source": [
    "from sklearn.metrics import confusion_matrix\n",
    "best_f1 = 0.0\n",
    "patience = 5\n",
    "patience_counter = 0\n",
    "optimizer = optim.Adam(model.parameters(), lr=0.001)\n",
    "criterion = nn.CrossEntropyLoss(weight=weights_tensor)\n",
    "\n",
    "for epoch in range(1, 21):\n",
    "    model.train()\n",
    "    running_loss = 0.0\n",
    "\n",
    "    for images, labels in tqdm(train_loader, desc=f\"Epoch {epoch}\"):\n",
    "        images, labels = images.to(device), labels.to(device)\n",
    "        optimizer.zero_grad()\n",
    "        outputs = model(images)\n",
    "        loss = criterion(outputs, labels)\n",
    "        loss.backward()\n",
    "        optimizer.step()\n",
    "        running_loss += loss.item()\n",
    "\n",
    "    # === Evaluation ===\n",
    "    model.eval()\n",
    "    all_preds, all_labels = [], []\n",
    "    with torch.no_grad():\n",
    "        for images, labels in val_loader:\n",
    "            images, labels = images.to(device), labels.to(device)\n",
    "            outputs = model(images)\n",
    "            preds = torch.argmax(outputs, dim=1)\n",
    "            all_preds.extend(preds.cpu().numpy())\n",
    "            all_labels.extend(labels.cpu().numpy())\n",
    "\n",
    "    acc = accuracy_score(all_labels, all_preds)\n",
    "    f1 = f1_score(all_labels, all_preds, average='macro')\n",
    "    cm = confusion_matrix(all_labels, all_preds)\n",
    "\n",
    "    print(\"\\n\" + \"=\"*50)\n",
    "    print(f\"Epoch {epoch} Summary:\")\n",
    "    print(f\"Train Loss: {running_loss:.4f}\")\n",
    "    print(f\"Val Acc:   {acc:.4f}\")\n",
    "    print(f\"Val F1:    {f1:.4f}\")\n",
    "    print(\"\\nClassification Report:\")\n",
    "    print(classification_report(all_labels, all_preds, target_names=[\"No/Low Risk\", \"Intermediate\", \"High\"], zero_division=0))\n",
    "\n",
    "    print(\"Prediction Distribution:\", torch.bincount(torch.tensor(all_preds)).tolist())\n",
    "\n",
    "    print(\"\\nConfusion Matrix:\")\n",
    "    print(f\"{'':15}{'Pred 0':>10}{'Pred 1':>10}{'Pred 2':>10}\")\n",
    "    for i, row in enumerate(cm):\n",
    "        print(f\"True {i:<11}\" + \"\".join(f\"{val:10d}\" for val in row))\n",
    "    print(\"=\"*50 + \"\\n\")\n",
    "\n",
    "    if f1 > best_f1:\n",
    "        best_f1 = f1\n",
    "        patience_counter = 0\n",
    "        torch.save(model.state_dict(), \"best_model_mri_only.pt\")\n",
    "        print(\"Best model saved.\")\n",
    "    else:\n",
    "        patience_counter += 1\n",
    "\n",
    "    if patience_counter >= patience:\n",
    "        print(\"Early stopping triggered.\")\n",
    "        break\n"
   ]
  }
 ],
 "metadata": {
  "kernelspec": {
   "display_name": "Python 3 (ipykernel)",
   "language": "python",
   "name": "python3"
  },
  "language_info": {
   "codemirror_mode": {
    "name": "ipython",
    "version": 3
   },
   "file_extension": ".py",
   "mimetype": "text/x-python",
   "name": "python",
   "nbconvert_exporter": "python",
   "pygments_lexer": "ipython3",
   "version": "3.10.11"
  }
 },
 "nbformat": 4,
 "nbformat_minor": 5
}
