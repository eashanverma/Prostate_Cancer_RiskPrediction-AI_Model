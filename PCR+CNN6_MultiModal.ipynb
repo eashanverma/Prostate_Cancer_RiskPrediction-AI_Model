{
 "cells": [
  {
   "cell_type": "code",
   "execution_count": 1,
   "id": "5d0befbd-8fe0-4e73-a20b-99160d5c4a52",
   "metadata": {},
   "outputs": [],
   "source": [
    "import os\n",
    "import torch\n",
    "import torch.nn as nn\n",
    "import torch.optim as optim\n",
    "from torch.utils.data import Dataset, DataLoader\n",
    "from torchvision import transforms as T\n",
    "from torchvision.transforms.functional import to_pil_image\n",
    "from PIL import Image\n",
    "import pandas as pd\n",
    "import numpy as np\n",
    "from sklearn.model_selection import train_test_split\n",
    "from sklearn.utils.class_weight import compute_class_weight\n",
    "from sklearn.metrics import accuracy_score, f1_score, confusion_matrix\n",
    "import matplotlib.pyplot as plt\n",
    "from tqdm.notebook import tqdm\n",
    "\n",
    "device = torch.device(\"cuda\" if torch.cuda.is_available() else \"cpu\")"
   ]
  },
  {
   "cell_type": "code",
   "execution_count": 7,
   "id": "12d1a431-3407-4e4a-97eb-cb278447bfb0",
   "metadata": {},
   "outputs": [
    {
     "name": "stdout",
     "output_type": "stream",
     "text": [
      "Loaded: 1171 rows\n",
      "Example: image_path         C:/Users/HP/Downloads/GLEASON/Train Imgs\\slide...\n",
      "mask_path          C:/Users/HP/Downloads/GLEASON\\Maps1_T/slide001...\n",
      "expert_id                                                          1\n",
      "primary_grade                                                      4\n",
      "secondary_grade                                                    4\n",
      "gleason_score                                                      8\n",
      "risk_label                                                         3\n",
      "risk_class                                                         2\n",
      "Name: 0, dtype: object\n"
     ]
    }
   ],
   "source": [
    "csv_path = \"C:/Users/HP/Downloads/GLEASON/Train_with_Gleason_and_Labels.csv\"\n",
    "df = pd.read_csv(csv_path)\n",
    "df['risk_class'] = df['risk_label'].map({\n",
    "    0: 0,  # Gleason 0 → Low Risk\n",
    "    1: 0,  # Gleason 6 → Low Risk\n",
    "    2: 1,  # Gleason 7 → Intermediate Risk\n",
    "    3: 2   # Gleason 8–10 → High Risk\n",
    "})\n",
    "df['image_path'] = df['image_path'].apply(lambda x: os.path.join(\"C:/Users/HP/Downloads/GLEASON/Train Imgs\", os.path.basename(x)))\n",
    "df['mask_path'] = df['mask_path'].apply(lambda x: os.path.join(\"C:/Users/HP/Downloads/GLEASON\", x.strip('./')))\n",
    "\n",
    "print(\"Loaded:\", len(df), \"rows\")\n",
    "print(\"Example:\", df.iloc[0])"
   ]
  },
  {
   "cell_type": "code",
   "execution_count": 8,
   "id": "acc599d1-3a8e-47d2-b195-6e97ec6bc1c6",
   "metadata": {},
   "outputs": [],
   "source": [
    "class GleasonGradeDataset(Dataset):\n",
    "    def __init__(self, df, target=\"primary\"):\n",
    "        self.df = df.reset_index(drop=True)\n",
    "        self.target = target\n",
    "        self.grade_map = {3: 0, 4: 1, 5: 2}\n",
    "        self.transform_img = T.Compose([\n",
    "            T.Resize((512, 512)),\n",
    "            T.ToTensor(),\n",
    "            T.Normalize([0.5]*3, [0.5]*3)\n",
    "        ])\n",
    "        self.transform_mask = T.Compose([\n",
    "            T.Resize((512, 512)),\n",
    "            T.ToTensor()\n",
    "        ])\n",
    "\n",
    "    def __len__(self):\n",
    "        return len(self.df)\n",
    "\n",
    "    def __getitem__(self, idx):\n",
    "        row = self.df.iloc[idx]\n",
    "        image = Image.open(row['image_path']).convert(\"RGB\")\n",
    "        mask = Image.open(row['mask_path']).convert(\"L\")\n",
    "\n",
    "        image_tensor = self.transform_img(image)\n",
    "        mask_tensor = self.transform_mask(mask)\n",
    "        input_tensor = torch.cat([image_tensor, mask_tensor], dim=0)  # 4-channel input\n",
    "\n",
    "        mask_np = np.array(mask)\n",
    "        valid = [3, 4, 5]\n",
    "        grade_pixels = {v: np.sum(mask_np == v) for v in valid}\n",
    "        sorted_grades = sorted(grade_pixels.items(), key=lambda x: x[1], reverse=True)\n",
    "        primary = sorted_grades[0][0] if sorted_grades else 3\n",
    "        secondary = sorted_grades[1][0] if len(sorted_grades) > 1 else primary\n",
    "        label = primary if self.target == \"primary\" else secondary\n",
    "\n",
    "        return input_tensor, self.grade_map.get(label, 0)"
   ]
  },
  {
   "cell_type": "code",
   "execution_count": 9,
   "id": "67be6853-8964-4c10-babf-ac75d2a7ee1f",
   "metadata": {},
   "outputs": [],
   "source": [
    "class CNNGradePredictor(nn.Module):\n",
    "    def __init__(self):\n",
    "        super(CNNGradePredictor, self).__init__()\n",
    "        self.features = nn.Sequential(\n",
    "            nn.Conv2d(4, 32, 3, padding=1), nn.BatchNorm2d(32), nn.ReLU(), nn.MaxPool2d(2),  # 256x256\n",
    "            nn.Conv2d(32, 64, 3, padding=1), nn.BatchNorm2d(64), nn.ReLU(), nn.MaxPool2d(2),  # 128x128\n",
    "            nn.Conv2d(64, 128, 3, padding=1), nn.BatchNorm2d(128), nn.ReLU(), nn.MaxPool2d(2),  # 64x64\n",
    "            nn.Conv2d(128, 256, 3, padding=1), nn.BatchNorm2d(256), nn.ReLU(), nn.MaxPool2d(2),  # 32x32\n",
    "            nn.Conv2d(256, 512, 3, padding=1), nn.BatchNorm2d(512), nn.ReLU(), nn.AdaptiveAvgPool2d((1, 1))  # 1x1\n",
    "        )\n",
    "        self.classifier = nn.Sequential(\n",
    "            nn.Flatten(),\n",
    "            nn.Linear(512, 128), nn.ReLU(), nn.Dropout(0.5),\n",
    "            nn.Linear(128, 3)  # 3 classes: grade 3, 4, 5\n",
    "        )\n",
    "\n",
    "    def forward(self, x):\n",
    "        x = self.features(x)\n",
    "        return self.classifier(x)"
   ]
  },
  {
   "cell_type": "code",
   "execution_count": 10,
   "id": "9493d206-c222-4e99-9ce9-4066ffb54ef6",
   "metadata": {},
   "outputs": [],
   "source": [
    "def train_model(model, train_loader, val_loader, class_weights, save_path, label_name=\"\"):\n",
    "    model = model.to(device)\n",
    "    criterion = nn.CrossEntropyLoss(weight=class_weights)\n",
    "    optimizer = optim.Adam(model.parameters(), lr=0.001)\n",
    "    best_f1 = 0\n",
    "    patience, trigger = 5, 0\n",
    "\n",
    "    for epoch in range(1, 12):\n",
    "        model.train()\n",
    "        total_loss, preds, labels = 0, [], []\n",
    "\n",
    "        for x, y in tqdm(train_loader, desc=f\"Epoch {epoch} - Training\"):\n",
    "            x, y = x.to(device), y.to(device)\n",
    "            optimizer.zero_grad()\n",
    "            out = model(x)\n",
    "            loss = criterion(out, y)\n",
    "            loss.backward()\n",
    "            optimizer.step()\n",
    "            total_loss += loss.item()\n",
    "            preds.extend(torch.argmax(out, 1).cpu().numpy())\n",
    "            labels.extend(y.cpu().numpy())\n",
    "\n",
    "        train_acc = accuracy_score(labels, preds)\n",
    "        train_f1 = f1_score(labels, preds, average='macro')\n",
    "\n",
    "        model.eval()\n",
    "        val_preds, val_labels = [], []\n",
    "\n",
    "        with torch.no_grad():\n",
    "            for x, y in tqdm(val_loader, desc=f\"Epoch {epoch} - Validation\"):\n",
    "                x, y = x.to(device), y.to(device)\n",
    "                out = model(x)\n",
    "                pred = torch.argmax(out, dim=1)\n",
    "                val_preds.extend(pred.cpu().numpy())\n",
    "                val_labels.extend(y.cpu().numpy())\n",
    "\n",
    "        val_acc = accuracy_score(val_labels, val_preds)\n",
    "        val_f1 = f1_score(val_labels, val_preds, average='macro')\n",
    "        cm = confusion_matrix(val_labels, val_preds)\n",
    "\n",
    "        print(f\"\\nEpoch {epoch} Results:\")\n",
    "        print(f\"Train Loss: {total_loss:.4f} | Train Acc: {train_acc:.4f} | Train F1: {train_f1:.4f}\")\n",
    "        print(f\"Val   Acc: {val_acc:.4f} | Val   F1: {val_f1:.4f}\")\n",
    "        print(\"Confusion Matrix:\\n\", cm)\n",
    "\n",
    "        if val_f1 > best_f1:\n",
    "            best_f1 = val_f1\n",
    "            trigger = 0\n",
    "            torch.save(model.state_dict(), save_path)\n",
    "            print(\"Best model saved.\")\n",
    "        else:\n",
    "            trigger += 1\n",
    "            print(f\"No improvement. Patience: {trigger}/{patience}\")\n",
    "            if trigger >= patience:\n",
    "                print(\"Early stopping triggered.\")\n",
    "                break"
   ]
  },
  {
   "cell_type": "code",
   "execution_count": 11,
   "id": "d3a1b4ac-f729-469f-a3d2-a0cf22cb74c0",
   "metadata": {},
   "outputs": [
    {
     "data": {
      "application/vnd.jupyter.widget-view+json": {
       "model_id": "61a553129b9a4ee0af225aec38d705a4",
       "version_major": 2,
       "version_minor": 0
      },
      "text/plain": [
       "  0%|          | 0/936 [00:00<?, ?it/s]"
      ]
     },
     "metadata": {},
     "output_type": "display_data"
    },
    {
     "data": {
      "application/vnd.jupyter.widget-view+json": {
       "model_id": "da5ced68434f4691a067c8183df1d1ea",
       "version_major": 2,
       "version_minor": 0
      },
      "text/plain": [
       "  0%|          | 0/936 [00:00<?, ?it/s]"
      ]
     },
     "metadata": {},
     "output_type": "display_data"
    }
   ],
   "source": [
    "train_df, val_df = train_test_split(df, test_size=0.2, stratify=df['risk_class'], random_state=42)\n",
    "\n",
    "train_primary = GleasonGradeDataset(train_df, target=\"primary\")\n",
    "val_primary = GleasonGradeDataset(val_df, target=\"primary\")\n",
    "train_secondary = GleasonGradeDataset(train_df, target=\"secondary\")\n",
    "val_secondary = GleasonGradeDataset(val_df, target=\"secondary\")\n",
    "\n",
    "train_loader_primary = DataLoader(train_primary, batch_size=8, shuffle=True)\n",
    "val_loader_primary = DataLoader(val_primary, batch_size=8)\n",
    "train_loader_secondary = DataLoader(train_secondary, batch_size=8, shuffle=True)\n",
    "val_loader_secondary = DataLoader(val_secondary, batch_size=8)\n",
    "\n",
    "y_primary = [train_primary[i][1] for i in tqdm(range(len(train_primary)))]\n",
    "y_secondary = [train_secondary[i][1] for i in tqdm(range(len(train_secondary)))]\n",
    "\n",
    "class_weights_primary = compute_class_weight(class_weight=\"balanced\", classes=np.array([0, 1, 2]), y=y_primary)\n",
    "class_weights_secondary = compute_class_weight(class_weight=\"balanced\", classes=np.array([0, 1, 2]), y=y_secondary)\n",
    "\n",
    "class_weights_primary_tensor = torch.tensor(class_weights_primary, dtype=torch.float32).to(device)\n",
    "class_weights_secondary_tensor = torch.tensor(class_weights_secondary, dtype=torch.float32).to(device)"
   ]
  },
  {
   "cell_type": "code",
   "execution_count": 12,
   "id": "8d020767-92b0-4389-a341-bcb8f65576e6",
   "metadata": {},
   "outputs": [
    {
     "data": {
      "application/vnd.jupyter.widget-view+json": {
       "model_id": "91a1711c8d904995976bed8d379a1591",
       "version_major": 2,
       "version_minor": 0
      },
      "text/plain": [
       "Epoch 1 - Training:   0%|          | 0/117 [00:00<?, ?it/s]"
      ]
     },
     "metadata": {},
     "output_type": "display_data"
    },
    {
     "data": {
      "application/vnd.jupyter.widget-view+json": {
       "model_id": "8613dff9066e4e2b8923626052bf5f67",
       "version_major": 2,
       "version_minor": 0
      },
      "text/plain": [
       "Epoch 1 - Validation:   0%|          | 0/30 [00:00<?, ?it/s]"
      ]
     },
     "metadata": {},
     "output_type": "display_data"
    },
    {
     "name": "stdout",
     "output_type": "stream",
     "text": [
      "\n",
      "Epoch 1 Results:\n",
      "Train Loss: 131.4047 | Train Acc: 0.5032 | Train F1: 0.3642\n",
      "Val   Acc: 0.4936 | Val   F1: 0.3995\n",
      "Confusion Matrix:\n",
      " [[38 46 21]\n",
      " [20 74 28]\n",
      " [ 1  3  4]]\n",
      "Best model saved.\n"
     ]
    },
    {
     "data": {
      "application/vnd.jupyter.widget-view+json": {
       "model_id": "a7a88a1e23804e8e83ea4c9d00c31629",
       "version_major": 2,
       "version_minor": 0
      },
      "text/plain": [
       "Epoch 2 - Training:   0%|          | 0/117 [00:00<?, ?it/s]"
      ]
     },
     "metadata": {},
     "output_type": "display_data"
    },
    {
     "data": {
      "application/vnd.jupyter.widget-view+json": {
       "model_id": "5a68a8769d08438bb44e49386e5c888d",
       "version_major": 2,
       "version_minor": 0
      },
      "text/plain": [
       "Epoch 2 - Validation:   0%|          | 0/30 [00:00<?, ?it/s]"
      ]
     },
     "metadata": {},
     "output_type": "display_data"
    },
    {
     "name": "stdout",
     "output_type": "stream",
     "text": [
      "\n",
      "Epoch 2 Results:\n",
      "Train Loss: 120.0629 | Train Acc: 0.5684 | Train F1: 0.3902\n",
      "Val   Acc: 0.5191 | Val   F1: 0.3593\n",
      "Confusion Matrix:\n",
      " [[55 48  2]\n",
      " [47 67  8]\n",
      " [ 1  7  0]]\n",
      "No improvement. Patience: 1/5\n"
     ]
    },
    {
     "data": {
      "application/vnd.jupyter.widget-view+json": {
       "model_id": "b5532a7bd798419590a26148d9444db9",
       "version_major": 2,
       "version_minor": 0
      },
      "text/plain": [
       "Epoch 3 - Training:   0%|          | 0/117 [00:00<?, ?it/s]"
      ]
     },
     "metadata": {},
     "output_type": "display_data"
    },
    {
     "data": {
      "application/vnd.jupyter.widget-view+json": {
       "model_id": "62df6b07551348c6b75906e9a72b593c",
       "version_major": 2,
       "version_minor": 0
      },
      "text/plain": [
       "Epoch 3 - Validation:   0%|          | 0/30 [00:00<?, ?it/s]"
      ]
     },
     "metadata": {},
     "output_type": "display_data"
    },
    {
     "name": "stdout",
     "output_type": "stream",
     "text": [
      "\n",
      "Epoch 3 Results:\n",
      "Train Loss: 116.9993 | Train Acc: 0.5759 | Train F1: 0.4253\n",
      "Val   Acc: 0.6128 | Val   F1: 0.3923\n",
      "Confusion Matrix:\n",
      " [[ 38  67   0]\n",
      " [ 16 106   0]\n",
      " [  1   7   0]]\n",
      "No improvement. Patience: 2/5\n"
     ]
    },
    {
     "data": {
      "application/vnd.jupyter.widget-view+json": {
       "model_id": "6862789eb4744c9a847563a19d117dbd",
       "version_major": 2,
       "version_minor": 0
      },
      "text/plain": [
       "Epoch 4 - Training:   0%|          | 0/117 [00:00<?, ?it/s]"
      ]
     },
     "metadata": {},
     "output_type": "display_data"
    },
    {
     "data": {
      "application/vnd.jupyter.widget-view+json": {
       "model_id": "190b4177f1aa4b4194c7a85fa4802e40",
       "version_major": 2,
       "version_minor": 0
      },
      "text/plain": [
       "Epoch 4 - Validation:   0%|          | 0/30 [00:00<?, ?it/s]"
      ]
     },
     "metadata": {},
     "output_type": "display_data"
    },
    {
     "name": "stdout",
     "output_type": "stream",
     "text": [
      "\n",
      "Epoch 4 Results:\n",
      "Train Loss: 115.2319 | Train Acc: 0.5630 | Train F1: 0.4140\n",
      "Val   Acc: 0.4894 | Val   F1: 0.3365\n",
      "Confusion Matrix:\n",
      " [[103   1   1]\n",
      " [104  10   8]\n",
      " [  5   1   2]]\n",
      "No improvement. Patience: 3/5\n"
     ]
    },
    {
     "data": {
      "application/vnd.jupyter.widget-view+json": {
       "model_id": "8835be0e860646a0a7cb57437f195496",
       "version_major": 2,
       "version_minor": 0
      },
      "text/plain": [
       "Epoch 5 - Training:   0%|          | 0/117 [00:00<?, ?it/s]"
      ]
     },
     "metadata": {},
     "output_type": "display_data"
    },
    {
     "data": {
      "application/vnd.jupyter.widget-view+json": {
       "model_id": "5f11c829fada4b67a2c9e4cf2716a254",
       "version_major": 2,
       "version_minor": 0
      },
      "text/plain": [
       "Epoch 5 - Validation:   0%|          | 0/30 [00:00<?, ?it/s]"
      ]
     },
     "metadata": {},
     "output_type": "display_data"
    },
    {
     "name": "stdout",
     "output_type": "stream",
     "text": [
      "\n",
      "Epoch 5 Results:\n",
      "Train Loss: 108.0969 | Train Acc: 0.6068 | Train F1: 0.4800\n",
      "Val   Acc: 0.6170 | Val   F1: 0.4601\n",
      "Confusion Matrix:\n",
      " [[58 46  1]\n",
      " [29 86  7]\n",
      " [ 1  6  1]]\n",
      "Best model saved.\n"
     ]
    },
    {
     "data": {
      "application/vnd.jupyter.widget-view+json": {
       "model_id": "85d3f0ec3a814c31bf90f9c868d67219",
       "version_major": 2,
       "version_minor": 0
      },
      "text/plain": [
       "Epoch 6 - Training:   0%|          | 0/117 [00:00<?, ?it/s]"
      ]
     },
     "metadata": {},
     "output_type": "display_data"
    },
    {
     "data": {
      "application/vnd.jupyter.widget-view+json": {
       "model_id": "4fbe3fd7d3574aaabd512ecd63edbcd0",
       "version_major": 2,
       "version_minor": 0
      },
      "text/plain": [
       "Epoch 6 - Validation:   0%|          | 0/30 [00:00<?, ?it/s]"
      ]
     },
     "metadata": {},
     "output_type": "display_data"
    },
    {
     "name": "stdout",
     "output_type": "stream",
     "text": [
      "\n",
      "Epoch 6 Results:\n",
      "Train Loss: 107.5065 | Train Acc: 0.6047 | Train F1: 0.4810\n",
      "Val   Acc: 0.3149 | Val   F1: 0.2991\n",
      "Confusion Matrix:\n",
      " [[38 30 37]\n",
      " [16 30 76]\n",
      " [ 1  1  6]]\n",
      "No improvement. Patience: 1/5\n"
     ]
    },
    {
     "data": {
      "application/vnd.jupyter.widget-view+json": {
       "model_id": "4fd7cafe81de4f698b546ee65ff84619",
       "version_major": 2,
       "version_minor": 0
      },
      "text/plain": [
       "Epoch 7 - Training:   0%|          | 0/117 [00:00<?, ?it/s]"
      ]
     },
     "metadata": {},
     "output_type": "display_data"
    },
    {
     "data": {
      "application/vnd.jupyter.widget-view+json": {
       "model_id": "aac7db67143a4aa08d944b804579fcce",
       "version_major": 2,
       "version_minor": 0
      },
      "text/plain": [
       "Epoch 7 - Validation:   0%|          | 0/30 [00:00<?, ?it/s]"
      ]
     },
     "metadata": {},
     "output_type": "display_data"
    },
    {
     "name": "stdout",
     "output_type": "stream",
     "text": [
      "\n",
      "Epoch 7 Results:\n",
      "Train Loss: 104.1744 | Train Acc: 0.6058 | Train F1: 0.4998\n",
      "Val   Acc: 0.1277 | Val   F1: 0.1341\n",
      "Confusion Matrix:\n",
      " [[  9  24  72]\n",
      " [  1  14 107]\n",
      " [  1   0   7]]\n",
      "No improvement. Patience: 2/5\n"
     ]
    },
    {
     "data": {
      "application/vnd.jupyter.widget-view+json": {
       "model_id": "50bba30193554a74b6ce5951ce154e61",
       "version_major": 2,
       "version_minor": 0
      },
      "text/plain": [
       "Epoch 8 - Training:   0%|          | 0/117 [00:00<?, ?it/s]"
      ]
     },
     "metadata": {},
     "output_type": "display_data"
    },
    {
     "data": {
      "application/vnd.jupyter.widget-view+json": {
       "model_id": "20c9ffbd7bbd4270a1057a8a0ff3b079",
       "version_major": 2,
       "version_minor": 0
      },
      "text/plain": [
       "Epoch 8 - Validation:   0%|          | 0/30 [00:00<?, ?it/s]"
      ]
     },
     "metadata": {},
     "output_type": "display_data"
    },
    {
     "name": "stdout",
     "output_type": "stream",
     "text": [
      "\n",
      "Epoch 8 Results:\n",
      "Train Loss: 98.9250 | Train Acc: 0.6528 | Train F1: 0.5326\n",
      "Val   Acc: 0.5787 | Val   F1: 0.4476\n",
      "Confusion Matrix:\n",
      " [[98  6  1]\n",
      " [55 34 33]\n",
      " [ 1  3  4]]\n",
      "No improvement. Patience: 3/5\n"
     ]
    },
    {
     "data": {
      "application/vnd.jupyter.widget-view+json": {
       "model_id": "48f9445518ab49eab8da13c2c6149b90",
       "version_major": 2,
       "version_minor": 0
      },
      "text/plain": [
       "Epoch 9 - Training:   0%|          | 0/117 [00:00<?, ?it/s]"
      ]
     },
     "metadata": {},
     "output_type": "display_data"
    },
    {
     "data": {
      "application/vnd.jupyter.widget-view+json": {
       "model_id": "5f51506e6ed84d26bbecc8e0120a7cfc",
       "version_major": 2,
       "version_minor": 0
      },
      "text/plain": [
       "Epoch 9 - Validation:   0%|          | 0/30 [00:00<?, ?it/s]"
      ]
     },
     "metadata": {},
     "output_type": "display_data"
    },
    {
     "name": "stdout",
     "output_type": "stream",
     "text": [
      "\n",
      "Epoch 9 Results:\n",
      "Train Loss: 103.4344 | Train Acc: 0.6026 | Train F1: 0.4952\n",
      "Val   Acc: 0.5660 | Val   F1: 0.4599\n",
      "Confusion Matrix:\n",
      " [[87 15  3]\n",
      " [46 41 35]\n",
      " [ 1  2  5]]\n",
      "No improvement. Patience: 4/5\n"
     ]
    },
    {
     "data": {
      "application/vnd.jupyter.widget-view+json": {
       "model_id": "f3816a38f30d44efbfe290b69ace4263",
       "version_major": 2,
       "version_minor": 0
      },
      "text/plain": [
       "Epoch 10 - Training:   0%|          | 0/117 [00:00<?, ?it/s]"
      ]
     },
     "metadata": {},
     "output_type": "display_data"
    },
    {
     "data": {
      "application/vnd.jupyter.widget-view+json": {
       "model_id": "4ba787829c5846fbad819ecd0b3d5976",
       "version_major": 2,
       "version_minor": 0
      },
      "text/plain": [
       "Epoch 10 - Validation:   0%|          | 0/30 [00:00<?, ?it/s]"
      ]
     },
     "metadata": {},
     "output_type": "display_data"
    },
    {
     "name": "stdout",
     "output_type": "stream",
     "text": [
      "\n",
      "Epoch 10 Results:\n",
      "Train Loss: 100.7699 | Train Acc: 0.5972 | Train F1: 0.4942\n",
      "Val   Acc: 0.6383 | Val   F1: 0.4838\n",
      "Confusion Matrix:\n",
      " [[98  6  1]\n",
      " [57 50 15]\n",
      " [ 1  5  2]]\n",
      "Best model saved.\n"
     ]
    },
    {
     "data": {
      "application/vnd.jupyter.widget-view+json": {
       "model_id": "1ee080fbb6e542bcb693e173e029135e",
       "version_major": 2,
       "version_minor": 0
      },
      "text/plain": [
       "Epoch 11 - Training:   0%|          | 0/117 [00:00<?, ?it/s]"
      ]
     },
     "metadata": {},
     "output_type": "display_data"
    },
    {
     "data": {
      "application/vnd.jupyter.widget-view+json": {
       "model_id": "5b6edf7a5bdb472dabff29d55919befe",
       "version_major": 2,
       "version_minor": 0
      },
      "text/plain": [
       "Epoch 11 - Validation:   0%|          | 0/30 [00:00<?, ?it/s]"
      ]
     },
     "metadata": {},
     "output_type": "display_data"
    },
    {
     "name": "stdout",
     "output_type": "stream",
     "text": [
      "\n",
      "Epoch 11 Results:\n",
      "Train Loss: 96.0142 | Train Acc: 0.6485 | Train F1: 0.5288\n",
      "Val   Acc: 0.6298 | Val   F1: 0.4277\n",
      "Confusion Matrix:\n",
      " [[78 27  0]\n",
      " [51 70  1]\n",
      " [ 3  5  0]]\n",
      "No improvement. Patience: 1/5\n"
     ]
    },
    {
     "data": {
      "application/vnd.jupyter.widget-view+json": {
       "model_id": "be7a093ca54a4f5197ed85c8bf4576f1",
       "version_major": 2,
       "version_minor": 0
      },
      "text/plain": [
       "Epoch 1 - Training:   0%|          | 0/117 [00:00<?, ?it/s]"
      ]
     },
     "metadata": {},
     "output_type": "display_data"
    },
    {
     "data": {
      "application/vnd.jupyter.widget-view+json": {
       "model_id": "6a348aaedafa4bd997fe5b918894c373",
       "version_major": 2,
       "version_minor": 0
      },
      "text/plain": [
       "Epoch 1 - Validation:   0%|          | 0/30 [00:00<?, ?it/s]"
      ]
     },
     "metadata": {},
     "output_type": "display_data"
    },
    {
     "name": "stdout",
     "output_type": "stream",
     "text": [
      "\n",
      "Epoch 1 Results:\n",
      "Train Loss: 125.9472 | Train Acc: 0.5043 | Train F1: 0.3437\n",
      "Val   Acc: 0.5489 | Val   F1: 0.2859\n",
      "Confusion Matrix:\n",
      " [[119   5   0]\n",
      " [ 96  10   0]\n",
      " [  4   1   0]]\n",
      "Best model saved.\n"
     ]
    },
    {
     "data": {
      "application/vnd.jupyter.widget-view+json": {
       "model_id": "0a0213b27134417a8be224e8e05d8dfb",
       "version_major": 2,
       "version_minor": 0
      },
      "text/plain": [
       "Epoch 2 - Training:   0%|          | 0/117 [00:00<?, ?it/s]"
      ]
     },
     "metadata": {},
     "output_type": "display_data"
    },
    {
     "data": {
      "application/vnd.jupyter.widget-view+json": {
       "model_id": "8999e6f3ed384da48ad3dd450a92d0a1",
       "version_major": 2,
       "version_minor": 0
      },
      "text/plain": [
       "Epoch 2 - Validation:   0%|          | 0/30 [00:00<?, ?it/s]"
      ]
     },
     "metadata": {},
     "output_type": "display_data"
    },
    {
     "name": "stdout",
     "output_type": "stream",
     "text": [
      "\n",
      "Epoch 2 Results:\n",
      "Train Loss: 119.7283 | Train Acc: 0.5395 | Train F1: 0.3656\n",
      "Val   Acc: 0.6255 | Val   F1: 0.4205\n",
      "Confusion Matrix:\n",
      " [[81 43  0]\n",
      " [40 66  0]\n",
      " [ 2  3  0]]\n",
      "Best model saved.\n"
     ]
    },
    {
     "data": {
      "application/vnd.jupyter.widget-view+json": {
       "model_id": "aae80e9001ae494dabac1f715b034c7e",
       "version_major": 2,
       "version_minor": 0
      },
      "text/plain": [
       "Epoch 3 - Training:   0%|          | 0/117 [00:00<?, ?it/s]"
      ]
     },
     "metadata": {},
     "output_type": "display_data"
    },
    {
     "data": {
      "application/vnd.jupyter.widget-view+json": {
       "model_id": "c1038722c70c48fd9894a13eac9aa516",
       "version_major": 2,
       "version_minor": 0
      },
      "text/plain": [
       "Epoch 3 - Validation:   0%|          | 0/30 [00:00<?, ?it/s]"
      ]
     },
     "metadata": {},
     "output_type": "display_data"
    },
    {
     "name": "stdout",
     "output_type": "stream",
     "text": [
      "\n",
      "Epoch 3 Results:\n",
      "Train Loss: 122.3036 | Train Acc: 0.5534 | Train F1: 0.3739\n",
      "Val   Acc: 0.6000 | Val   F1: 0.3941\n",
      "Confusion Matrix:\n",
      " [[48 76  0]\n",
      " [13 93  0]\n",
      " [ 2  3  0]]\n",
      "No improvement. Patience: 1/5\n"
     ]
    },
    {
     "data": {
      "application/vnd.jupyter.widget-view+json": {
       "model_id": "fb67d10a090140fda32822293986aad1",
       "version_major": 2,
       "version_minor": 0
      },
      "text/plain": [
       "Epoch 4 - Training:   0%|          | 0/117 [00:00<?, ?it/s]"
      ]
     },
     "metadata": {},
     "output_type": "display_data"
    },
    {
     "data": {
      "application/vnd.jupyter.widget-view+json": {
       "model_id": "497d1993d9bf46688d987b24107fa484",
       "version_major": 2,
       "version_minor": 0
      },
      "text/plain": [
       "Epoch 4 - Validation:   0%|          | 0/30 [00:00<?, ?it/s]"
      ]
     },
     "metadata": {},
     "output_type": "display_data"
    },
    {
     "name": "stdout",
     "output_type": "stream",
     "text": [
      "\n",
      "Epoch 4 Results:\n",
      "Train Loss: 122.8812 | Train Acc: 0.5406 | Train F1: 0.3651\n",
      "Val   Acc: 0.5915 | Val   F1: 0.3774\n",
      "Confusion Matrix:\n",
      " [[101  23   0]\n",
      " [ 68  38   0]\n",
      " [  3   2   0]]\n",
      "No improvement. Patience: 2/5\n"
     ]
    },
    {
     "data": {
      "application/vnd.jupyter.widget-view+json": {
       "model_id": "05b8a7b78f77445992284b7ff4376db9",
       "version_major": 2,
       "version_minor": 0
      },
      "text/plain": [
       "Epoch 5 - Training:   0%|          | 0/117 [00:00<?, ?it/s]"
      ]
     },
     "metadata": {},
     "output_type": "display_data"
    },
    {
     "data": {
      "application/vnd.jupyter.widget-view+json": {
       "model_id": "d8975d159d154b33b853f59d8b4fac0b",
       "version_major": 2,
       "version_minor": 0
      },
      "text/plain": [
       "Epoch 5 - Validation:   0%|          | 0/30 [00:00<?, ?it/s]"
      ]
     },
     "metadata": {},
     "output_type": "display_data"
    },
    {
     "name": "stdout",
     "output_type": "stream",
     "text": [
      "\n",
      "Epoch 5 Results:\n",
      "Train Loss: 117.5812 | Train Acc: 0.5299 | Train F1: 0.3578\n",
      "Val   Acc: 0.5745 | Val   F1: 0.3635\n",
      "Confusion Matrix:\n",
      " [[ 35  89   0]\n",
      " [  6 100   0]\n",
      " [  1   4   0]]\n",
      "No improvement. Patience: 3/5\n"
     ]
    },
    {
     "data": {
      "application/vnd.jupyter.widget-view+json": {
       "model_id": "1898e374cd4c4f90800e9b1a66dec8b8",
       "version_major": 2,
       "version_minor": 0
      },
      "text/plain": [
       "Epoch 6 - Training:   0%|          | 0/117 [00:00<?, ?it/s]"
      ]
     },
     "metadata": {},
     "output_type": "display_data"
    },
    {
     "data": {
      "application/vnd.jupyter.widget-view+json": {
       "model_id": "b09bc1f456b74f9da326d471de2858ef",
       "version_major": 2,
       "version_minor": 0
      },
      "text/plain": [
       "Epoch 6 - Validation:   0%|          | 0/30 [00:00<?, ?it/s]"
      ]
     },
     "metadata": {},
     "output_type": "display_data"
    },
    {
     "name": "stdout",
     "output_type": "stream",
     "text": [
      "\n",
      "Epoch 6 Results:\n",
      "Train Loss: 117.1016 | Train Acc: 0.6047 | Train F1: 0.4086\n",
      "Val   Acc: 0.6426 | Val   F1: 0.4302\n",
      "Confusion Matrix:\n",
      " [[88 36  0]\n",
      " [43 63  0]\n",
      " [ 2  3  0]]\n",
      "Best model saved.\n"
     ]
    },
    {
     "data": {
      "application/vnd.jupyter.widget-view+json": {
       "model_id": "d2370a9c8f4c43aa90e9d0b417ed0cbb",
       "version_major": 2,
       "version_minor": 0
      },
      "text/plain": [
       "Epoch 7 - Training:   0%|          | 0/117 [00:00<?, ?it/s]"
      ]
     },
     "metadata": {},
     "output_type": "display_data"
    },
    {
     "data": {
      "application/vnd.jupyter.widget-view+json": {
       "model_id": "e20e33f1e2f44fd6b3af66cdba3842a6",
       "version_major": 2,
       "version_minor": 0
      },
      "text/plain": [
       "Epoch 7 - Validation:   0%|          | 0/30 [00:00<?, ?it/s]"
      ]
     },
     "metadata": {},
     "output_type": "display_data"
    },
    {
     "name": "stdout",
     "output_type": "stream",
     "text": [
      "\n",
      "Epoch 7 Results:\n",
      "Train Loss: 115.7530 | Train Acc: 0.6357 | Train F1: 0.4309\n",
      "Val   Acc: 0.4979 | Val   F1: 0.2718\n",
      "Confusion Matrix:\n",
      " [[ 12 112   0]\n",
      " [  1 105   0]\n",
      " [  0   5   0]]\n",
      "No improvement. Patience: 1/5\n"
     ]
    },
    {
     "data": {
      "application/vnd.jupyter.widget-view+json": {
       "model_id": "e24477c43726436382e2746d53fe8044",
       "version_major": 2,
       "version_minor": 0
      },
      "text/plain": [
       "Epoch 8 - Training:   0%|          | 0/117 [00:00<?, ?it/s]"
      ]
     },
     "metadata": {},
     "output_type": "display_data"
    },
    {
     "data": {
      "application/vnd.jupyter.widget-view+json": {
       "model_id": "5045b3b0bda9466b815d4c72c07f3fdd",
       "version_major": 2,
       "version_minor": 0
      },
      "text/plain": [
       "Epoch 8 - Validation:   0%|          | 0/30 [00:00<?, ?it/s]"
      ]
     },
     "metadata": {},
     "output_type": "display_data"
    },
    {
     "name": "stdout",
     "output_type": "stream",
     "text": [
      "\n",
      "Epoch 8 Results:\n",
      "Train Loss: 114.8302 | Train Acc: 0.6335 | Train F1: 0.4292\n",
      "Val   Acc: 0.6809 | Val   F1: 0.4542\n",
      "Confusion Matrix:\n",
      " [[97 27  0]\n",
      " [43 63  0]\n",
      " [ 2  3  0]]\n",
      "Best model saved.\n"
     ]
    },
    {
     "data": {
      "application/vnd.jupyter.widget-view+json": {
       "model_id": "f3858654328f450ca0e1285f322d8b6d",
       "version_major": 2,
       "version_minor": 0
      },
      "text/plain": [
       "Epoch 9 - Training:   0%|          | 0/117 [00:00<?, ?it/s]"
      ]
     },
     "metadata": {},
     "output_type": "display_data"
    },
    {
     "data": {
      "application/vnd.jupyter.widget-view+json": {
       "model_id": "6792a3f223d743e4addb9c615bd1e51b",
       "version_major": 2,
       "version_minor": 0
      },
      "text/plain": [
       "Epoch 9 - Validation:   0%|          | 0/30 [00:00<?, ?it/s]"
      ]
     },
     "metadata": {},
     "output_type": "display_data"
    },
    {
     "name": "stdout",
     "output_type": "stream",
     "text": [
      "\n",
      "Epoch 9 Results:\n",
      "Train Loss: 115.8263 | Train Acc: 0.6549 | Train F1: 0.4439\n",
      "Val   Acc: 0.5915 | Val   F1: 0.3776\n",
      "Confusion Matrix:\n",
      " [[ 38  86   0]\n",
      " [  5 101   0]\n",
      " [  0   5   0]]\n",
      "No improvement. Patience: 1/5\n"
     ]
    },
    {
     "data": {
      "application/vnd.jupyter.widget-view+json": {
       "model_id": "d238e71a22894a95a42b952a066fcf6c",
       "version_major": 2,
       "version_minor": 0
      },
      "text/plain": [
       "Epoch 10 - Training:   0%|          | 0/117 [00:00<?, ?it/s]"
      ]
     },
     "metadata": {},
     "output_type": "display_data"
    },
    {
     "data": {
      "application/vnd.jupyter.widget-view+json": {
       "model_id": "fa88a2b3949b4d2281078f53507bd6c8",
       "version_major": 2,
       "version_minor": 0
      },
      "text/plain": [
       "Epoch 10 - Validation:   0%|          | 0/30 [00:00<?, ?it/s]"
      ]
     },
     "metadata": {},
     "output_type": "display_data"
    },
    {
     "name": "stdout",
     "output_type": "stream",
     "text": [
      "\n",
      "Epoch 10 Results:\n",
      "Train Loss: 110.3805 | Train Acc: 0.6966 | Train F1: 0.4721\n",
      "Val   Acc: 0.6638 | Val   F1: 0.4366\n",
      "Confusion Matrix:\n",
      " [[103  21   0]\n",
      " [ 53  53   0]\n",
      " [  2   3   0]]\n",
      "No improvement. Patience: 2/5\n"
     ]
    },
    {
     "data": {
      "application/vnd.jupyter.widget-view+json": {
       "model_id": "81957d64236740748a491cac052ec088",
       "version_major": 2,
       "version_minor": 0
      },
      "text/plain": [
       "Epoch 11 - Training:   0%|          | 0/117 [00:00<?, ?it/s]"
      ]
     },
     "metadata": {},
     "output_type": "display_data"
    },
    {
     "data": {
      "application/vnd.jupyter.widget-view+json": {
       "model_id": "36300212248e4b6fb203d34db54de97a",
       "version_major": 2,
       "version_minor": 0
      },
      "text/plain": [
       "Epoch 11 - Validation:   0%|          | 0/30 [00:00<?, ?it/s]"
      ]
     },
     "metadata": {},
     "output_type": "display_data"
    },
    {
     "name": "stdout",
     "output_type": "stream",
     "text": [
      "\n",
      "Epoch 11 Results:\n",
      "Train Loss: 112.2556 | Train Acc: 0.7147 | Train F1: 0.4844\n",
      "Val   Acc: 0.7319 | Val   F1: 0.4907\n",
      "Confusion Matrix:\n",
      " [[ 72  52   0]\n",
      " [  6 100   0]\n",
      " [  2   3   0]]\n",
      "Best model saved.\n"
     ]
    }
   ],
   "source": [
    "model_primary = CNNGradePredictor().to(device)\n",
    "train_model(\n",
    "    model=model_primary,\n",
    "    train_loader=train_loader_primary,\n",
    "    val_loader=val_loader_primary,\n",
    "    class_weights=class_weights_primary_tensor,\n",
    "    save_path=\"cnn_primary_model4.pth\",\n",
    "    label_name=\"Primary\"\n",
    ")\n",
    "\n",
    "model_secondary = CNNGradePredictor().to(device)\n",
    "train_model(\n",
    "    model=model_secondary,\n",
    "    train_loader=train_loader_secondary,\n",
    "    val_loader=val_loader_secondary,\n",
    "    class_weights=class_weights_secondary_tensor,\n",
    "    save_path=\"cnn_secondary_model4.pth\",\n",
    "    label_name=\"Secondary\"\n",
    ")"
   ]
  },
  {
   "cell_type": "code",
   "execution_count": 13,
   "id": "951c91e2-b484-4608-992e-7fa2b5d1b8f2",
   "metadata": {},
   "outputs": [
    {
     "data": {
      "text/plain": [
       "CNNGradePredictor(\n",
       "  (features): Sequential(\n",
       "    (0): Conv2d(4, 32, kernel_size=(3, 3), stride=(1, 1), padding=(1, 1))\n",
       "    (1): BatchNorm2d(32, eps=1e-05, momentum=0.1, affine=True, track_running_stats=True)\n",
       "    (2): ReLU()\n",
       "    (3): MaxPool2d(kernel_size=2, stride=2, padding=0, dilation=1, ceil_mode=False)\n",
       "    (4): Conv2d(32, 64, kernel_size=(3, 3), stride=(1, 1), padding=(1, 1))\n",
       "    (5): BatchNorm2d(64, eps=1e-05, momentum=0.1, affine=True, track_running_stats=True)\n",
       "    (6): ReLU()\n",
       "    (7): MaxPool2d(kernel_size=2, stride=2, padding=0, dilation=1, ceil_mode=False)\n",
       "    (8): Conv2d(64, 128, kernel_size=(3, 3), stride=(1, 1), padding=(1, 1))\n",
       "    (9): BatchNorm2d(128, eps=1e-05, momentum=0.1, affine=True, track_running_stats=True)\n",
       "    (10): ReLU()\n",
       "    (11): MaxPool2d(kernel_size=2, stride=2, padding=0, dilation=1, ceil_mode=False)\n",
       "    (12): Conv2d(128, 256, kernel_size=(3, 3), stride=(1, 1), padding=(1, 1))\n",
       "    (13): BatchNorm2d(256, eps=1e-05, momentum=0.1, affine=True, track_running_stats=True)\n",
       "    (14): ReLU()\n",
       "    (15): MaxPool2d(kernel_size=2, stride=2, padding=0, dilation=1, ceil_mode=False)\n",
       "    (16): Conv2d(256, 512, kernel_size=(3, 3), stride=(1, 1), padding=(1, 1))\n",
       "    (17): BatchNorm2d(512, eps=1e-05, momentum=0.1, affine=True, track_running_stats=True)\n",
       "    (18): ReLU()\n",
       "    (19): AdaptiveAvgPool2d(output_size=(1, 1))\n",
       "  )\n",
       "  (classifier): Sequential(\n",
       "    (0): Flatten(start_dim=1, end_dim=-1)\n",
       "    (1): Linear(in_features=512, out_features=128, bias=True)\n",
       "    (2): ReLU()\n",
       "    (3): Dropout(p=0.5, inplace=False)\n",
       "    (4): Linear(in_features=128, out_features=3, bias=True)\n",
       "  )\n",
       ")"
      ]
     },
     "execution_count": 13,
     "metadata": {},
     "output_type": "execute_result"
    }
   ],
   "source": [
    "model_primary.load_state_dict(torch.load(\"cnn_primary_model4.pth\"))\n",
    "model_secondary.load_state_dict(torch.load(\"cnn_secondary_model4.pth\"))\n",
    "\n",
    "model_primary.eval()\n",
    "model_secondary.eval()"
   ]
  },
  {
   "cell_type": "code",
   "execution_count": 14,
   "id": "70356eda-7058-4c1b-a320-fd7f273ffc55",
   "metadata": {},
   "outputs": [],
   "source": [
    "class CNN4Dataset(Dataset):\n",
    "    def __init__(self, df, cnn1_model, cnn2_model, transform=None):\n",
    "        self.df = df.reset_index(drop=True)\n",
    "        self.cnn1 = cnn1_model.eval()\n",
    "        self.cnn2 = cnn2_model.eval()\n",
    "        self.transform_img = transform or T.Compose([\n",
    "            T.Resize((512, 512)),\n",
    "            T.ToTensor(),\n",
    "            T.Normalize([0.5]*3, [0.5]*3)\n",
    "        ])\n",
    "\n",
    "    def __len__(self):\n",
    "        return len(self.df)\n",
    "\n",
    "    def __getitem__(self, idx):\n",
    "        row = self.df.iloc[idx]\n",
    "        img_path = row['image_path']\n",
    "        mask_path = row['mask_path']\n",
    "\n",
    "        image = Image.open(img_path).convert(\"RGB\")\n",
    "        mask = Image.open(mask_path).convert(\"L\")\n",
    "        img_tensor = self.transform_img(image)\n",
    "\n",
    "        # Dummy mask needed to form 4-channel input to CNN1/2\n",
    "        mask_tensor = T.Resize((512, 512))(T.ToTensor()(mask))\n",
    "        img4_tensor = torch.cat([img_tensor, mask_tensor], dim=0).unsqueeze(0).to(device)\n",
    "\n",
    "        with torch.no_grad():\n",
    "            pred_primary = self.cnn1(img4_tensor)\n",
    "            pred_secondary = self.cnn2(img4_tensor)\n",
    "\n",
    "        primary_grade = torch.argmax(pred_primary, dim=1).item() + 3\n",
    "        secondary_grade = torch.argmax(pred_secondary, dim=1).item() + 3\n",
    "        gleason_score = primary_grade + secondary_grade\n",
    "\n",
    "        # Risk class logic: 0 = 0/6, 1 = 7, 2 = 8/9/10\n",
    "        if gleason_score in [0, 6]:\n",
    "            risk = 0\n",
    "        elif gleason_score == 7:\n",
    "            risk = 1\n",
    "        elif gleason_score in [8, 9, 10]:\n",
    "            risk = 2\n",
    "        else:\n",
    "            risk = 0\n",
    "\n",
    "        # Construct 6-channel input: RGB + pri + sec + score\n",
    "        input_tensor = torch.cat([\n",
    "            img_tensor,\n",
    "            torch.tensor([[primary_grade / 5.0]]).repeat(1, 512, 512),\n",
    "            torch.tensor([[secondary_grade / 5.0]]).repeat(1, 512, 512),\n",
    "            torch.tensor([[gleason_score / 10.0]]).repeat(1, 512, 512)\n",
    "        ], dim=0)\n",
    "\n",
    "        return input_tensor, torch.tensor(risk, dtype=torch.long)"
   ]
  },
  {
   "cell_type": "code",
   "execution_count": 15,
   "id": "51cbc1d8-3103-4ffb-9ff2-b21fd807b44c",
   "metadata": {},
   "outputs": [
    {
     "data": {
      "application/vnd.jupyter.widget-view+json": {
       "model_id": "2e5c5a655b5940a49fcd65f78643f903",
       "version_major": 2,
       "version_minor": 0
      },
      "text/plain": [
       "  0%|          | 0/936 [00:00<?, ?it/s]"
      ]
     },
     "metadata": {},
     "output_type": "display_data"
    },
    {
     "name": "stdout",
     "output_type": "stream",
     "text": [
      "✅ Risk class distribution: 1    666\n",
      "2    183\n",
      "0     87\n",
      "Name: count, dtype: int64\n"
     ]
    }
   ],
   "source": [
    "cnn4_train_dataset = CNN4Dataset(train_df, model_primary, model_secondary)\n",
    "cnn4_val_dataset = CNN4Dataset(val_df, model_primary, model_secondary)\n",
    "\n",
    "cnn4_train_loader = DataLoader(cnn4_train_dataset, batch_size=8, shuffle=True)\n",
    "cnn4_val_loader = DataLoader(cnn4_val_dataset, batch_size=8, shuffle=False)\n",
    "\n",
    "# Check risk label distribution for weights\n",
    "risk_labels_train = [cnn4_train_dataset[i][1].item() for i in tqdm(range(len(cnn4_train_dataset)))]\n",
    "print(\"✅ Risk class distribution:\", pd.Series(risk_labels_train).value_counts())\n",
    "\n",
    "# Compute class weights\n",
    "class_weights_cnn4 = compute_class_weight(class_weight='balanced', classes=np.array([0,1,2]), y=risk_labels_train)\n",
    "class_weights_cnn4_tensor = torch.tensor(class_weights_cnn4, dtype=torch.float32).to(device)"
   ]
  },
  {
   "cell_type": "code",
   "execution_count": 16,
   "id": "e9835501-c2e8-47b4-a40a-1d88f20680ed",
   "metadata": {},
   "outputs": [],
   "source": [
    "class CNN4RiskClassifier(nn.Module):\n",
    "    def __init__(self):\n",
    "        super(CNN4RiskClassifier, self).__init__()\n",
    "        self.features = nn.Sequential(\n",
    "            nn.Conv2d(6, 64, kernel_size=3, padding=1),  # Input: 6-channel image\n",
    "            nn.BatchNorm2d(64),\n",
    "            nn.ReLU(),\n",
    "            nn.Conv2d(64, 64, kernel_size=3, padding=1),\n",
    "            nn.BatchNorm2d(64),\n",
    "            nn.ReLU(),\n",
    "            nn.MaxPool2d(2),\n",
    "\n",
    "            nn.Conv2d(64, 128, kernel_size=3, padding=1),\n",
    "            nn.BatchNorm2d(128),\n",
    "            nn.ReLU(),\n",
    "            nn.Conv2d(128, 128, kernel_size=3, padding=1),\n",
    "            nn.BatchNorm2d(128),\n",
    "            nn.ReLU(),\n",
    "            nn.MaxPool2d(2),\n",
    "\n",
    "            nn.Conv2d(128, 256, kernel_size=3, padding=1),\n",
    "            nn.BatchNorm2d(256),\n",
    "            nn.ReLU(),\n",
    "            nn.Conv2d(256, 256, kernel_size=3, padding=1),\n",
    "            nn.BatchNorm2d(256),\n",
    "            nn.ReLU(),\n",
    "            nn.MaxPool2d(2),\n",
    "\n",
    "            nn.Conv2d(256, 512, kernel_size=3, padding=1),\n",
    "            nn.BatchNorm2d(512),\n",
    "            nn.ReLU(),\n",
    "            nn.Conv2d(512, 512, kernel_size=3, padding=1),\n",
    "            nn.BatchNorm2d(512),\n",
    "            nn.ReLU(),\n",
    "            nn.AdaptiveAvgPool2d((1, 1))\n",
    "        )\n",
    "\n",
    "        self.classifier = nn.Sequential(\n",
    "            nn.Flatten(),  # [B, 512]\n",
    "            nn.Linear(512, 256),\n",
    "            nn.ReLU(),\n",
    "            nn.Dropout(0.4),\n",
    "            nn.Linear(256, 128),\n",
    "            nn.ReLU(),\n",
    "            nn.Dropout(0.3),\n",
    "            nn.Linear(128, 3)  # Final 3-class risk output\n",
    "        )\n",
    "\n",
    "    def forward(self, x):\n",
    "        x = self.features(x)\n",
    "        x = self.classifier(x)\n",
    "        return x"
   ]
  },
  {
   "cell_type": "code",
   "execution_count": 17,
   "id": "33d4f518-3b1f-44c9-a9dc-646656ddc808",
   "metadata": {},
   "outputs": [],
   "source": [
    "cnn4_model = CNN4RiskClassifier().to(device)\n",
    "loss_fn = nn.CrossEntropyLoss(weight=class_weights_cnn4_tensor)\n",
    "optimizer = torch.optim.Adam(cnn4_model.parameters(), lr=1e-3)\n",
    "scheduler = torch.optim.lr_scheduler.ReduceLROnPlateau(optimizer, mode='max', factor=0.5, patience=2)"
   ]
  },
  {
   "cell_type": "code",
   "execution_count": 18,
   "id": "9acb2c59-b521-4156-8b1b-14379765fa30",
   "metadata": {},
   "outputs": [
    {
     "data": {
      "application/vnd.jupyter.widget-view+json": {
       "model_id": "4b7b9c375ddd4615a985a35898b92688",
       "version_major": 2,
       "version_minor": 0
      },
      "text/plain": [
       "Epoch 1 - Training:   0%|          | 0/117 [00:00<?, ?it/s]"
      ]
     },
     "metadata": {},
     "output_type": "display_data"
    },
    {
     "data": {
      "application/vnd.jupyter.widget-view+json": {
       "model_id": "74b453297ab14af3a4135b61ccffe506",
       "version_major": 2,
       "version_minor": 0
      },
      "text/plain": [
       "Epoch 1 - Validation:   0%|          | 0/30 [00:00<?, ?it/s]"
      ]
     },
     "metadata": {},
     "output_type": "display_data"
    },
    {
     "name": "stdout",
     "output_type": "stream",
     "text": [
      "\n",
      "📊 Epoch 1 Results:\n",
      "Train Loss: 39.2999 | Train Acc: 0.8974 | Train F1: 0.8468\n",
      "Val   Acc: 0.9915 | Val   F1: 0.9891\n",
      "Confusion Matrix:\n",
      " [[ 21   0   0]\n",
      " [  0 176   2]\n",
      " [  0   0  36]]\n",
      "✅ Best model saved.\n"
     ]
    },
    {
     "data": {
      "application/vnd.jupyter.widget-view+json": {
       "model_id": "99bd7f0853d74c54a00d68be2130a9ed",
       "version_major": 2,
       "version_minor": 0
      },
      "text/plain": [
       "Epoch 2 - Training:   0%|          | 0/117 [00:00<?, ?it/s]"
      ]
     },
     "metadata": {},
     "output_type": "display_data"
    },
    {
     "data": {
      "application/vnd.jupyter.widget-view+json": {
       "model_id": "3052a3dafb364c34a1134f3c2ecb6a17",
       "version_major": 2,
       "version_minor": 0
      },
      "text/plain": [
       "Epoch 2 - Validation:   0%|          | 0/30 [00:00<?, ?it/s]"
      ]
     },
     "metadata": {},
     "output_type": "display_data"
    },
    {
     "name": "stdout",
     "output_type": "stream",
     "text": [
      "\n",
      "📊 Epoch 2 Results:\n",
      "Train Loss: 19.0040 | Train Acc: 0.9370 | Train F1: 0.9120\n",
      "Val   Acc: 0.2723 | Val   F1: 0.4573\n",
      "Confusion Matrix:\n",
      " [[ 21   0   0]\n",
      " [  0   7 171]\n",
      " [  0   0  36]]\n",
      "No improvement. Patience: 1/5\n"
     ]
    },
    {
     "data": {
      "application/vnd.jupyter.widget-view+json": {
       "model_id": "69f054c7d99241058cc9628146c778f2",
       "version_major": 2,
       "version_minor": 0
      },
      "text/plain": [
       "Epoch 3 - Training:   0%|          | 0/117 [00:00<?, ?it/s]"
      ]
     },
     "metadata": {},
     "output_type": "display_data"
    },
    {
     "data": {
      "application/vnd.jupyter.widget-view+json": {
       "model_id": "62ff9ea0b8a94e9b966efed2ad30551e",
       "version_major": 2,
       "version_minor": 0
      },
      "text/plain": [
       "Epoch 3 - Validation:   0%|          | 0/30 [00:00<?, ?it/s]"
      ]
     },
     "metadata": {},
     "output_type": "display_data"
    },
    {
     "name": "stdout",
     "output_type": "stream",
     "text": [
      "\n",
      "📊 Epoch 3 Results:\n",
      "Train Loss: 22.8947 | Train Acc: 0.9252 | Train F1: 0.8922\n",
      "Val   Acc: 0.9447 | Val   F1: 0.9364\n",
      "Confusion Matrix:\n",
      " [[ 21   0   0]\n",
      " [  0 165  13]\n",
      " [  0   0  36]]\n",
      "No improvement. Patience: 2/5\n"
     ]
    },
    {
     "data": {
      "application/vnd.jupyter.widget-view+json": {
       "model_id": "066cf7d15f134126acc61863733ece16",
       "version_major": 2,
       "version_minor": 0
      },
      "text/plain": [
       "Epoch 4 - Training:   0%|          | 0/117 [00:00<?, ?it/s]"
      ]
     },
     "metadata": {},
     "output_type": "display_data"
    },
    {
     "data": {
      "application/vnd.jupyter.widget-view+json": {
       "model_id": "7318721ae5c44d6f8bd29b2bf0713183",
       "version_major": 2,
       "version_minor": 0
      },
      "text/plain": [
       "Epoch 4 - Validation:   0%|          | 0/30 [00:00<?, ?it/s]"
      ]
     },
     "metadata": {},
     "output_type": "display_data"
    },
    {
     "name": "stdout",
     "output_type": "stream",
     "text": [
      "\n",
      "📊 Epoch 4 Results:\n",
      "Train Loss: 10.7937 | Train Acc: 0.9701 | Train F1: 0.9517\n",
      "Val   Acc: 1.0000 | Val   F1: 1.0000\n",
      "Confusion Matrix:\n",
      " [[ 21   0   0]\n",
      " [  0 178   0]\n",
      " [  0   0  36]]\n",
      "✅ Best model saved.\n"
     ]
    },
    {
     "data": {
      "application/vnd.jupyter.widget-view+json": {
       "model_id": "0b858f622c604b199f4a5cb89eded1a1",
       "version_major": 2,
       "version_minor": 0
      },
      "text/plain": [
       "Epoch 5 - Training:   0%|          | 0/117 [00:00<?, ?it/s]"
      ]
     },
     "metadata": {},
     "output_type": "display_data"
    },
    {
     "ename": "KeyboardInterrupt",
     "evalue": "",
     "output_type": "error",
     "traceback": [
      "\u001b[1;31m---------------------------------------------------------------------------\u001b[0m",
      "\u001b[1;31mKeyboardInterrupt\u001b[0m                         Traceback (most recent call last)",
      "Cell \u001b[1;32mIn[18], line 13\u001b[0m\n\u001b[0;32m     11\u001b[0m inputs, targets \u001b[38;5;241m=\u001b[39m inputs\u001b[38;5;241m.\u001b[39mto(device), targets\u001b[38;5;241m.\u001b[39mto(device)\n\u001b[0;32m     12\u001b[0m optimizer\u001b[38;5;241m.\u001b[39mzero_grad()\n\u001b[1;32m---> 13\u001b[0m outputs \u001b[38;5;241m=\u001b[39m \u001b[43mcnn4_model\u001b[49m\u001b[43m(\u001b[49m\u001b[43minputs\u001b[49m\u001b[43m)\u001b[49m\n\u001b[0;32m     14\u001b[0m loss \u001b[38;5;241m=\u001b[39m loss_fn(outputs, targets)\n\u001b[0;32m     15\u001b[0m loss\u001b[38;5;241m.\u001b[39mbackward()\n",
      "File \u001b[1;32m~\\AppData\\Local\\Programs\\Python\\Python310\\lib\\site-packages\\torch\\nn\\modules\\module.py:1751\u001b[0m, in \u001b[0;36mModule._wrapped_call_impl\u001b[1;34m(self, *args, **kwargs)\u001b[0m\n\u001b[0;32m   1749\u001b[0m     \u001b[38;5;28;01mreturn\u001b[39;00m \u001b[38;5;28mself\u001b[39m\u001b[38;5;241m.\u001b[39m_compiled_call_impl(\u001b[38;5;241m*\u001b[39margs, \u001b[38;5;241m*\u001b[39m\u001b[38;5;241m*\u001b[39mkwargs)  \u001b[38;5;66;03m# type: ignore[misc]\u001b[39;00m\n\u001b[0;32m   1750\u001b[0m \u001b[38;5;28;01melse\u001b[39;00m:\n\u001b[1;32m-> 1751\u001b[0m     \u001b[38;5;28;01mreturn\u001b[39;00m \u001b[38;5;28mself\u001b[39m\u001b[38;5;241m.\u001b[39m_call_impl(\u001b[38;5;241m*\u001b[39margs, \u001b[38;5;241m*\u001b[39m\u001b[38;5;241m*\u001b[39mkwargs)\n",
      "File \u001b[1;32m~\\AppData\\Local\\Programs\\Python\\Python310\\lib\\site-packages\\torch\\nn\\modules\\module.py:1762\u001b[0m, in \u001b[0;36mModule._call_impl\u001b[1;34m(self, *args, **kwargs)\u001b[0m\n\u001b[0;32m   1757\u001b[0m \u001b[38;5;66;03m# If we don't have any hooks, we want to skip the rest of the logic in\u001b[39;00m\n\u001b[0;32m   1758\u001b[0m \u001b[38;5;66;03m# this function, and just call forward.\u001b[39;00m\n\u001b[0;32m   1759\u001b[0m \u001b[38;5;28;01mif\u001b[39;00m \u001b[38;5;129;01mnot\u001b[39;00m (\u001b[38;5;28mself\u001b[39m\u001b[38;5;241m.\u001b[39m_backward_hooks \u001b[38;5;129;01mor\u001b[39;00m \u001b[38;5;28mself\u001b[39m\u001b[38;5;241m.\u001b[39m_backward_pre_hooks \u001b[38;5;129;01mor\u001b[39;00m \u001b[38;5;28mself\u001b[39m\u001b[38;5;241m.\u001b[39m_forward_hooks \u001b[38;5;129;01mor\u001b[39;00m \u001b[38;5;28mself\u001b[39m\u001b[38;5;241m.\u001b[39m_forward_pre_hooks\n\u001b[0;32m   1760\u001b[0m         \u001b[38;5;129;01mor\u001b[39;00m _global_backward_pre_hooks \u001b[38;5;129;01mor\u001b[39;00m _global_backward_hooks\n\u001b[0;32m   1761\u001b[0m         \u001b[38;5;129;01mor\u001b[39;00m _global_forward_hooks \u001b[38;5;129;01mor\u001b[39;00m _global_forward_pre_hooks):\n\u001b[1;32m-> 1762\u001b[0m     \u001b[38;5;28;01mreturn\u001b[39;00m forward_call(\u001b[38;5;241m*\u001b[39margs, \u001b[38;5;241m*\u001b[39m\u001b[38;5;241m*\u001b[39mkwargs)\n\u001b[0;32m   1764\u001b[0m result \u001b[38;5;241m=\u001b[39m \u001b[38;5;28;01mNone\u001b[39;00m\n\u001b[0;32m   1765\u001b[0m called_always_called_hooks \u001b[38;5;241m=\u001b[39m \u001b[38;5;28mset\u001b[39m()\n",
      "Cell \u001b[1;32mIn[16], line 50\u001b[0m, in \u001b[0;36mCNN4RiskClassifier.forward\u001b[1;34m(self, x)\u001b[0m\n\u001b[0;32m     49\u001b[0m \u001b[38;5;28;01mdef\u001b[39;00m\u001b[38;5;250m \u001b[39m\u001b[38;5;21mforward\u001b[39m(\u001b[38;5;28mself\u001b[39m, x):\n\u001b[1;32m---> 50\u001b[0m     x \u001b[38;5;241m=\u001b[39m \u001b[38;5;28;43mself\u001b[39;49m\u001b[38;5;241;43m.\u001b[39;49m\u001b[43mfeatures\u001b[49m\u001b[43m(\u001b[49m\u001b[43mx\u001b[49m\u001b[43m)\u001b[49m\n\u001b[0;32m     51\u001b[0m     x \u001b[38;5;241m=\u001b[39m \u001b[38;5;28mself\u001b[39m\u001b[38;5;241m.\u001b[39mclassifier(x)\n\u001b[0;32m     52\u001b[0m     \u001b[38;5;28;01mreturn\u001b[39;00m x\n",
      "File \u001b[1;32m~\\AppData\\Local\\Programs\\Python\\Python310\\lib\\site-packages\\torch\\nn\\modules\\module.py:1751\u001b[0m, in \u001b[0;36mModule._wrapped_call_impl\u001b[1;34m(self, *args, **kwargs)\u001b[0m\n\u001b[0;32m   1749\u001b[0m     \u001b[38;5;28;01mreturn\u001b[39;00m \u001b[38;5;28mself\u001b[39m\u001b[38;5;241m.\u001b[39m_compiled_call_impl(\u001b[38;5;241m*\u001b[39margs, \u001b[38;5;241m*\u001b[39m\u001b[38;5;241m*\u001b[39mkwargs)  \u001b[38;5;66;03m# type: ignore[misc]\u001b[39;00m\n\u001b[0;32m   1750\u001b[0m \u001b[38;5;28;01melse\u001b[39;00m:\n\u001b[1;32m-> 1751\u001b[0m     \u001b[38;5;28;01mreturn\u001b[39;00m \u001b[38;5;28mself\u001b[39m\u001b[38;5;241m.\u001b[39m_call_impl(\u001b[38;5;241m*\u001b[39margs, \u001b[38;5;241m*\u001b[39m\u001b[38;5;241m*\u001b[39mkwargs)\n",
      "File \u001b[1;32m~\\AppData\\Local\\Programs\\Python\\Python310\\lib\\site-packages\\torch\\nn\\modules\\module.py:1762\u001b[0m, in \u001b[0;36mModule._call_impl\u001b[1;34m(self, *args, **kwargs)\u001b[0m\n\u001b[0;32m   1757\u001b[0m \u001b[38;5;66;03m# If we don't have any hooks, we want to skip the rest of the logic in\u001b[39;00m\n\u001b[0;32m   1758\u001b[0m \u001b[38;5;66;03m# this function, and just call forward.\u001b[39;00m\n\u001b[0;32m   1759\u001b[0m \u001b[38;5;28;01mif\u001b[39;00m \u001b[38;5;129;01mnot\u001b[39;00m (\u001b[38;5;28mself\u001b[39m\u001b[38;5;241m.\u001b[39m_backward_hooks \u001b[38;5;129;01mor\u001b[39;00m \u001b[38;5;28mself\u001b[39m\u001b[38;5;241m.\u001b[39m_backward_pre_hooks \u001b[38;5;129;01mor\u001b[39;00m \u001b[38;5;28mself\u001b[39m\u001b[38;5;241m.\u001b[39m_forward_hooks \u001b[38;5;129;01mor\u001b[39;00m \u001b[38;5;28mself\u001b[39m\u001b[38;5;241m.\u001b[39m_forward_pre_hooks\n\u001b[0;32m   1760\u001b[0m         \u001b[38;5;129;01mor\u001b[39;00m _global_backward_pre_hooks \u001b[38;5;129;01mor\u001b[39;00m _global_backward_hooks\n\u001b[0;32m   1761\u001b[0m         \u001b[38;5;129;01mor\u001b[39;00m _global_forward_hooks \u001b[38;5;129;01mor\u001b[39;00m _global_forward_pre_hooks):\n\u001b[1;32m-> 1762\u001b[0m     \u001b[38;5;28;01mreturn\u001b[39;00m forward_call(\u001b[38;5;241m*\u001b[39margs, \u001b[38;5;241m*\u001b[39m\u001b[38;5;241m*\u001b[39mkwargs)\n\u001b[0;32m   1764\u001b[0m result \u001b[38;5;241m=\u001b[39m \u001b[38;5;28;01mNone\u001b[39;00m\n\u001b[0;32m   1765\u001b[0m called_always_called_hooks \u001b[38;5;241m=\u001b[39m \u001b[38;5;28mset\u001b[39m()\n",
      "File \u001b[1;32m~\\AppData\\Local\\Programs\\Python\\Python310\\lib\\site-packages\\torch\\nn\\modules\\container.py:240\u001b[0m, in \u001b[0;36mSequential.forward\u001b[1;34m(self, input)\u001b[0m\n\u001b[0;32m    238\u001b[0m \u001b[38;5;28;01mdef\u001b[39;00m\u001b[38;5;250m \u001b[39m\u001b[38;5;21mforward\u001b[39m(\u001b[38;5;28mself\u001b[39m, \u001b[38;5;28minput\u001b[39m):\n\u001b[0;32m    239\u001b[0m     \u001b[38;5;28;01mfor\u001b[39;00m module \u001b[38;5;129;01min\u001b[39;00m \u001b[38;5;28mself\u001b[39m:\n\u001b[1;32m--> 240\u001b[0m         \u001b[38;5;28minput\u001b[39m \u001b[38;5;241m=\u001b[39m \u001b[43mmodule\u001b[49m\u001b[43m(\u001b[49m\u001b[38;5;28;43minput\u001b[39;49m\u001b[43m)\u001b[49m\n\u001b[0;32m    241\u001b[0m     \u001b[38;5;28;01mreturn\u001b[39;00m \u001b[38;5;28minput\u001b[39m\n",
      "File \u001b[1;32m~\\AppData\\Local\\Programs\\Python\\Python310\\lib\\site-packages\\torch\\nn\\modules\\module.py:1751\u001b[0m, in \u001b[0;36mModule._wrapped_call_impl\u001b[1;34m(self, *args, **kwargs)\u001b[0m\n\u001b[0;32m   1749\u001b[0m     \u001b[38;5;28;01mreturn\u001b[39;00m \u001b[38;5;28mself\u001b[39m\u001b[38;5;241m.\u001b[39m_compiled_call_impl(\u001b[38;5;241m*\u001b[39margs, \u001b[38;5;241m*\u001b[39m\u001b[38;5;241m*\u001b[39mkwargs)  \u001b[38;5;66;03m# type: ignore[misc]\u001b[39;00m\n\u001b[0;32m   1750\u001b[0m \u001b[38;5;28;01melse\u001b[39;00m:\n\u001b[1;32m-> 1751\u001b[0m     \u001b[38;5;28;01mreturn\u001b[39;00m \u001b[38;5;28mself\u001b[39m\u001b[38;5;241m.\u001b[39m_call_impl(\u001b[38;5;241m*\u001b[39margs, \u001b[38;5;241m*\u001b[39m\u001b[38;5;241m*\u001b[39mkwargs)\n",
      "File \u001b[1;32m~\\AppData\\Local\\Programs\\Python\\Python310\\lib\\site-packages\\torch\\nn\\modules\\module.py:1762\u001b[0m, in \u001b[0;36mModule._call_impl\u001b[1;34m(self, *args, **kwargs)\u001b[0m\n\u001b[0;32m   1757\u001b[0m \u001b[38;5;66;03m# If we don't have any hooks, we want to skip the rest of the logic in\u001b[39;00m\n\u001b[0;32m   1758\u001b[0m \u001b[38;5;66;03m# this function, and just call forward.\u001b[39;00m\n\u001b[0;32m   1759\u001b[0m \u001b[38;5;28;01mif\u001b[39;00m \u001b[38;5;129;01mnot\u001b[39;00m (\u001b[38;5;28mself\u001b[39m\u001b[38;5;241m.\u001b[39m_backward_hooks \u001b[38;5;129;01mor\u001b[39;00m \u001b[38;5;28mself\u001b[39m\u001b[38;5;241m.\u001b[39m_backward_pre_hooks \u001b[38;5;129;01mor\u001b[39;00m \u001b[38;5;28mself\u001b[39m\u001b[38;5;241m.\u001b[39m_forward_hooks \u001b[38;5;129;01mor\u001b[39;00m \u001b[38;5;28mself\u001b[39m\u001b[38;5;241m.\u001b[39m_forward_pre_hooks\n\u001b[0;32m   1760\u001b[0m         \u001b[38;5;129;01mor\u001b[39;00m _global_backward_pre_hooks \u001b[38;5;129;01mor\u001b[39;00m _global_backward_hooks\n\u001b[0;32m   1761\u001b[0m         \u001b[38;5;129;01mor\u001b[39;00m _global_forward_hooks \u001b[38;5;129;01mor\u001b[39;00m _global_forward_pre_hooks):\n\u001b[1;32m-> 1762\u001b[0m     \u001b[38;5;28;01mreturn\u001b[39;00m forward_call(\u001b[38;5;241m*\u001b[39margs, \u001b[38;5;241m*\u001b[39m\u001b[38;5;241m*\u001b[39mkwargs)\n\u001b[0;32m   1764\u001b[0m result \u001b[38;5;241m=\u001b[39m \u001b[38;5;28;01mNone\u001b[39;00m\n\u001b[0;32m   1765\u001b[0m called_always_called_hooks \u001b[38;5;241m=\u001b[39m \u001b[38;5;28mset\u001b[39m()\n",
      "File \u001b[1;32m~\\AppData\\Local\\Programs\\Python\\Python310\\lib\\site-packages\\torch\\nn\\modules\\batchnorm.py:193\u001b[0m, in \u001b[0;36m_BatchNorm.forward\u001b[1;34m(self, input)\u001b[0m\n\u001b[0;32m    186\u001b[0m     bn_training \u001b[38;5;241m=\u001b[39m (\u001b[38;5;28mself\u001b[39m\u001b[38;5;241m.\u001b[39mrunning_mean \u001b[38;5;129;01mis\u001b[39;00m \u001b[38;5;28;01mNone\u001b[39;00m) \u001b[38;5;129;01mand\u001b[39;00m (\u001b[38;5;28mself\u001b[39m\u001b[38;5;241m.\u001b[39mrunning_var \u001b[38;5;129;01mis\u001b[39;00m \u001b[38;5;28;01mNone\u001b[39;00m)\n\u001b[0;32m    188\u001b[0m \u001b[38;5;250m\u001b[39m\u001b[38;5;124mr\u001b[39m\u001b[38;5;124;03m\"\"\"\u001b[39;00m\n\u001b[0;32m    189\u001b[0m \u001b[38;5;124;03mBuffers are only updated if they are to be tracked and we are in training mode. Thus they only need to be\u001b[39;00m\n\u001b[0;32m    190\u001b[0m \u001b[38;5;124;03mpassed when the update should occur (i.e. in training mode when they are tracked), or when buffer stats are\u001b[39;00m\n\u001b[0;32m    191\u001b[0m \u001b[38;5;124;03mused for normalization (i.e. in eval mode when buffers are not None).\u001b[39;00m\n\u001b[0;32m    192\u001b[0m \u001b[38;5;124;03m\"\"\"\u001b[39;00m\n\u001b[1;32m--> 193\u001b[0m \u001b[38;5;28;01mreturn\u001b[39;00m \u001b[43mF\u001b[49m\u001b[38;5;241;43m.\u001b[39;49m\u001b[43mbatch_norm\u001b[49m\u001b[43m(\u001b[49m\n\u001b[0;32m    194\u001b[0m \u001b[43m    \u001b[49m\u001b[38;5;28;43minput\u001b[39;49m\u001b[43m,\u001b[49m\n\u001b[0;32m    195\u001b[0m \u001b[43m    \u001b[49m\u001b[38;5;66;43;03m# If buffers are not to be tracked, ensure that they won't be updated\u001b[39;49;00m\n\u001b[0;32m    196\u001b[0m \u001b[43m    \u001b[49m\u001b[38;5;28;43mself\u001b[39;49m\u001b[38;5;241;43m.\u001b[39;49m\u001b[43mrunning_mean\u001b[49m\n\u001b[0;32m    197\u001b[0m \u001b[43m    \u001b[49m\u001b[38;5;28;43;01mif\u001b[39;49;00m\u001b[43m \u001b[49m\u001b[38;5;129;43;01mnot\u001b[39;49;00m\u001b[43m \u001b[49m\u001b[38;5;28;43mself\u001b[39;49m\u001b[38;5;241;43m.\u001b[39;49m\u001b[43mtraining\u001b[49m\u001b[43m \u001b[49m\u001b[38;5;129;43;01mor\u001b[39;49;00m\u001b[43m \u001b[49m\u001b[38;5;28;43mself\u001b[39;49m\u001b[38;5;241;43m.\u001b[39;49m\u001b[43mtrack_running_stats\u001b[49m\n\u001b[0;32m    198\u001b[0m \u001b[43m    \u001b[49m\u001b[38;5;28;43;01melse\u001b[39;49;00m\u001b[43m \u001b[49m\u001b[38;5;28;43;01mNone\u001b[39;49;00m\u001b[43m,\u001b[49m\n\u001b[0;32m    199\u001b[0m \u001b[43m    \u001b[49m\u001b[38;5;28;43mself\u001b[39;49m\u001b[38;5;241;43m.\u001b[39;49m\u001b[43mrunning_var\u001b[49m\u001b[43m \u001b[49m\u001b[38;5;28;43;01mif\u001b[39;49;00m\u001b[43m \u001b[49m\u001b[38;5;129;43;01mnot\u001b[39;49;00m\u001b[43m \u001b[49m\u001b[38;5;28;43mself\u001b[39;49m\u001b[38;5;241;43m.\u001b[39;49m\u001b[43mtraining\u001b[49m\u001b[43m \u001b[49m\u001b[38;5;129;43;01mor\u001b[39;49;00m\u001b[43m \u001b[49m\u001b[38;5;28;43mself\u001b[39;49m\u001b[38;5;241;43m.\u001b[39;49m\u001b[43mtrack_running_stats\u001b[49m\u001b[43m \u001b[49m\u001b[38;5;28;43;01melse\u001b[39;49;00m\u001b[43m \u001b[49m\u001b[38;5;28;43;01mNone\u001b[39;49;00m\u001b[43m,\u001b[49m\n\u001b[0;32m    200\u001b[0m \u001b[43m    \u001b[49m\u001b[38;5;28;43mself\u001b[39;49m\u001b[38;5;241;43m.\u001b[39;49m\u001b[43mweight\u001b[49m\u001b[43m,\u001b[49m\n\u001b[0;32m    201\u001b[0m \u001b[43m    \u001b[49m\u001b[38;5;28;43mself\u001b[39;49m\u001b[38;5;241;43m.\u001b[39;49m\u001b[43mbias\u001b[49m\u001b[43m,\u001b[49m\n\u001b[0;32m    202\u001b[0m \u001b[43m    \u001b[49m\u001b[43mbn_training\u001b[49m\u001b[43m,\u001b[49m\n\u001b[0;32m    203\u001b[0m \u001b[43m    \u001b[49m\u001b[43mexponential_average_factor\u001b[49m\u001b[43m,\u001b[49m\n\u001b[0;32m    204\u001b[0m \u001b[43m    \u001b[49m\u001b[38;5;28;43mself\u001b[39;49m\u001b[38;5;241;43m.\u001b[39;49m\u001b[43meps\u001b[49m\u001b[43m,\u001b[49m\n\u001b[0;32m    205\u001b[0m \u001b[43m\u001b[49m\u001b[43m)\u001b[49m\n",
      "File \u001b[1;32m~\\AppData\\Local\\Programs\\Python\\Python310\\lib\\site-packages\\torch\\nn\\functional.py:2822\u001b[0m, in \u001b[0;36mbatch_norm\u001b[1;34m(input, running_mean, running_var, weight, bias, training, momentum, eps)\u001b[0m\n\u001b[0;32m   2819\u001b[0m \u001b[38;5;28;01mif\u001b[39;00m training:\n\u001b[0;32m   2820\u001b[0m     _verify_batch_size(\u001b[38;5;28minput\u001b[39m\u001b[38;5;241m.\u001b[39msize())\n\u001b[1;32m-> 2822\u001b[0m \u001b[38;5;28;01mreturn\u001b[39;00m \u001b[43mtorch\u001b[49m\u001b[38;5;241;43m.\u001b[39;49m\u001b[43mbatch_norm\u001b[49m\u001b[43m(\u001b[49m\n\u001b[0;32m   2823\u001b[0m \u001b[43m    \u001b[49m\u001b[38;5;28;43minput\u001b[39;49m\u001b[43m,\u001b[49m\n\u001b[0;32m   2824\u001b[0m \u001b[43m    \u001b[49m\u001b[43mweight\u001b[49m\u001b[43m,\u001b[49m\n\u001b[0;32m   2825\u001b[0m \u001b[43m    \u001b[49m\u001b[43mbias\u001b[49m\u001b[43m,\u001b[49m\n\u001b[0;32m   2826\u001b[0m \u001b[43m    \u001b[49m\u001b[43mrunning_mean\u001b[49m\u001b[43m,\u001b[49m\n\u001b[0;32m   2827\u001b[0m \u001b[43m    \u001b[49m\u001b[43mrunning_var\u001b[49m\u001b[43m,\u001b[49m\n\u001b[0;32m   2828\u001b[0m \u001b[43m    \u001b[49m\u001b[43mtraining\u001b[49m\u001b[43m,\u001b[49m\n\u001b[0;32m   2829\u001b[0m \u001b[43m    \u001b[49m\u001b[43mmomentum\u001b[49m\u001b[43m,\u001b[49m\n\u001b[0;32m   2830\u001b[0m \u001b[43m    \u001b[49m\u001b[43meps\u001b[49m\u001b[43m,\u001b[49m\n\u001b[0;32m   2831\u001b[0m \u001b[43m    \u001b[49m\u001b[43mtorch\u001b[49m\u001b[38;5;241;43m.\u001b[39;49m\u001b[43mbackends\u001b[49m\u001b[38;5;241;43m.\u001b[39;49m\u001b[43mcudnn\u001b[49m\u001b[38;5;241;43m.\u001b[39;49m\u001b[43menabled\u001b[49m\u001b[43m,\u001b[49m\n\u001b[0;32m   2832\u001b[0m \u001b[43m\u001b[49m\u001b[43m)\u001b[49m\n",
      "\u001b[1;31mKeyboardInterrupt\u001b[0m: "
     ]
    }
   ],
   "source": [
    "epochs = 20\n",
    "patience = 5\n",
    "best_f1 = 0\n",
    "early_stop = 0\n",
    "\n",
    "for epoch in range(1, epochs + 1):\n",
    "    cnn4_model.train()\n",
    "    train_loss, all_preds, all_labels = 0, [], []\n",
    "\n",
    "    for inputs, targets in tqdm(cnn4_train_loader, desc=f\"Epoch {epoch} - Training\"):\n",
    "        inputs, targets = inputs.to(device), targets.to(device)\n",
    "        optimizer.zero_grad()\n",
    "        outputs = cnn4_model(inputs)\n",
    "        loss = loss_fn(outputs, targets)\n",
    "        loss.backward()\n",
    "        optimizer.step()\n",
    "        train_loss += loss.item()\n",
    "        all_preds.extend(torch.argmax(outputs, dim=1).cpu().numpy())\n",
    "        all_labels.extend(targets.cpu().numpy())\n",
    "\n",
    "    train_acc = accuracy_score(all_labels, all_preds)\n",
    "    train_f1 = f1_score(all_labels, all_preds, average='macro')\n",
    "\n",
    "    # === Validation ===\n",
    "    cnn4_model.eval()\n",
    "    val_preds, val_labels = [], []\n",
    "\n",
    "    with torch.no_grad():\n",
    "        for inputs, targets in tqdm(cnn4_val_loader, desc=f\"Epoch {epoch} - Validation\"):\n",
    "            inputs, targets = inputs.to(device), targets.to(device)\n",
    "            outputs = cnn4_model(inputs)\n",
    "            preds = torch.argmax(outputs, dim=1)\n",
    "            val_preds.extend(preds.cpu().numpy())\n",
    "            val_labels.extend(targets.cpu().numpy())\n",
    "\n",
    "    val_acc = accuracy_score(val_labels, val_preds)\n",
    "    val_f1 = f1_score(val_labels, val_preds, average='macro')\n",
    "    cm = confusion_matrix(val_labels, val_preds)\n",
    "\n",
    "    print(f\"\\n📊 Epoch {epoch} Results:\")\n",
    "    print(f\"Train Loss: {train_loss:.4f} | Train Acc: {train_acc:.4f} | Train F1: {train_f1:.4f}\")\n",
    "    print(f\"Val   Acc: {val_acc:.4f} | Val   F1: {val_f1:.4f}\")\n",
    "    print(\"Confusion Matrix:\\n\", cm)\n",
    "\n",
    "    scheduler.step(val_f1)\n",
    "\n",
    "    if val_f1 > best_f1:\n",
    "        best_f1 = val_f1\n",
    "        early_stop = 0\n",
    "        torch.save(cnn4_model.state_dict(), \"Fused_Final_cnn4.pth\")\n",
    "        print(\"✅ Best model saved.\")\n",
    "    else:\n",
    "        early_stop += 1\n",
    "        print(f\"No improvement. Patience: {early_stop}/{patience}\")\n",
    "        if early_stop >= patience:\n",
    "            print(\"⏹️ Early stopping triggered.\")\n",
    "            break"
   ]
  }
 ],
 "metadata": {
  "kernelspec": {
   "display_name": "Python 3 (ipykernel)",
   "language": "python",
   "name": "python3"
  },
  "language_info": {
   "codemirror_mode": {
    "name": "ipython",
    "version": 3
   },
   "file_extension": ".py",
   "mimetype": "text/x-python",
   "name": "python",
   "nbconvert_exporter": "python",
   "pygments_lexer": "ipython3",
   "version": "3.10.11"
  }
 },
 "nbformat": 4,
 "nbformat_minor": 5
}
